{
 "cells": [
  {
   "cell_type": "markdown",
   "id": "63d8b116",
   "metadata": {},
   "source": [
    "# ANSWER1"
   ]
  },
  {
   "cell_type": "code",
   "execution_count": 2,
   "id": "157e24f1",
   "metadata": {},
   "outputs": [
    {
     "name": "stdout",
     "output_type": "stream",
     "text": [
      "Requirement already satisfied: selenium in c:\\programdata\\anaconda3\\lib\\site-packages (4.1.3)\n",
      "Requirement already satisfied: trio~=0.17 in c:\\programdata\\anaconda3\\lib\\site-packages (from selenium) (0.20.0)\n",
      "Requirement already satisfied: trio-websocket~=0.9 in c:\\programdata\\anaconda3\\lib\\site-packages (from selenium) (0.9.2)\n",
      "Requirement already satisfied: urllib3[secure,socks]~=1.26 in c:\\programdata\\anaconda3\\lib\\site-packages (from selenium) (1.26.4)\n",
      "Requirement already satisfied: sniffio in c:\\programdata\\anaconda3\\lib\\site-packages (from trio~=0.17->selenium) (1.2.0)\n",
      "Requirement already satisfied: sortedcontainers in c:\\programdata\\anaconda3\\lib\\site-packages (from trio~=0.17->selenium) (2.3.0)\n",
      "Requirement already satisfied: idna in c:\\programdata\\anaconda3\\lib\\site-packages (from trio~=0.17->selenium) (2.10)\n",
      "Requirement already satisfied: outcome in c:\\programdata\\anaconda3\\lib\\site-packages (from trio~=0.17->selenium) (1.1.0)\n",
      "Requirement already satisfied: attrs>=19.2.0 in c:\\programdata\\anaconda3\\lib\\site-packages (from trio~=0.17->selenium) (20.3.0)\n",
      "Requirement already satisfied: cffi>=1.14 in c:\\programdata\\anaconda3\\lib\\site-packages (from trio~=0.17->selenium) (1.14.5)\n",
      "Requirement already satisfied: async-generator>=1.9 in c:\\programdata\\anaconda3\\lib\\site-packages (from trio~=0.17->selenium) (1.10)\n",
      "Requirement already satisfied: pycparser in c:\\programdata\\anaconda3\\lib\\site-packages (from cffi>=1.14->trio~=0.17->selenium) (2.20)\n",
      "Requirement already satisfied: wsproto>=0.14 in c:\\programdata\\anaconda3\\lib\\site-packages (from trio-websocket~=0.9->selenium) (1.1.0)\n",
      "Requirement already satisfied: PySocks!=1.5.7,<2.0,>=1.5.6 in c:\\programdata\\anaconda3\\lib\\site-packages (from urllib3[secure,socks]~=1.26->selenium) (1.7.1)\n",
      "Requirement already satisfied: certifi in c:\\programdata\\anaconda3\\lib\\site-packages (from urllib3[secure,socks]~=1.26->selenium) (2020.12.5)\n",
      "Requirement already satisfied: cryptography>=1.3.4 in c:\\programdata\\anaconda3\\lib\\site-packages (from urllib3[secure,socks]~=1.26->selenium) (3.4.7)\n",
      "Requirement already satisfied: pyOpenSSL>=0.14 in c:\\programdata\\anaconda3\\lib\\site-packages (from urllib3[secure,socks]~=1.26->selenium) (20.0.1)\n",
      "Requirement already satisfied: six>=1.5.2 in c:\\programdata\\anaconda3\\lib\\site-packages (from pyOpenSSL>=0.14->urllib3[secure,socks]~=1.26->selenium) (1.15.0)\n",
      "Requirement already satisfied: h11<1,>=0.9.0 in c:\\programdata\\anaconda3\\lib\\site-packages (from wsproto>=0.14->trio-websocket~=0.9->selenium) (0.13.0)\n"
     ]
    }
   ],
   "source": [
    "!pip install selenium"
   ]
  },
  {
   "cell_type": "code",
   "execution_count": 3,
   "id": "c908f9b5",
   "metadata": {},
   "outputs": [],
   "source": [
    "import selenium\n",
    "from selenium import webdriver\n",
    "import pandas as pd\n",
    "import warnings\n",
    "warnings.filterwarnings(\"ignore\")"
   ]
  },
  {
   "cell_type": "code",
   "execution_count": 52,
   "id": "3c2dd616",
   "metadata": {
    "scrolled": true
   },
   "outputs": [],
   "source": [
    "driver =webdriver.Chrome(r'C:/Users/Perfect Point/Desktop/chromedriver_win32/chromedriver.exe')"
   ]
  },
  {
   "cell_type": "code",
   "execution_count": null,
   "id": "95f86d65",
   "metadata": {},
   "outputs": [],
   "source": [
    "driver=webdriver.Chrome('chromedriver.exe')"
   ]
  },
  {
   "cell_type": "code",
   "execution_count": 53,
   "id": "38705614",
   "metadata": {},
   "outputs": [],
   "source": [
    "url='https://www.naukri.com'\n",
    "driver.get(url)"
   ]
  },
  {
   "cell_type": "code",
   "execution_count": 54,
   "id": "342f58d9",
   "metadata": {},
   "outputs": [
    {
     "data": {
      "text/plain": [
       "<selenium.webdriver.remote.webelement.WebElement (session=\"d3874c10da9597fbef1403a27bb97dbf\", element=\"3e1ca642-72ff-4991-a26b-849390538360\")>"
      ]
     },
     "execution_count": 54,
     "metadata": {},
     "output_type": "execute_result"
    }
   ],
   "source": [
    "search_job=driver.find_element_by_class_name(\"suggestor-input \")\n",
    "search_job"
   ]
  },
  {
   "cell_type": "code",
   "execution_count": 55,
   "id": "0e28453f",
   "metadata": {},
   "outputs": [],
   "source": [
    "search_job.send_keys(\"Data Analyst\")"
   ]
  },
  {
   "cell_type": "code",
   "execution_count": 56,
   "id": "cf47f404",
   "metadata": {},
   "outputs": [
    {
     "data": {
      "text/plain": [
       "<selenium.webdriver.remote.webelement.WebElement (session=\"d3874c10da9597fbef1403a27bb97dbf\", element=\"f0ee1294-9056-46ac-9060-233c62ea83f9\")>"
      ]
     },
     "execution_count": 56,
     "metadata": {},
     "output_type": "execute_result"
    }
   ],
   "source": [
    "search_loc=driver.find_element_by_xpath('/html/body/div/div[2]/div[3]/div/div/div[3]/div/div/div/input')\n",
    "search_loc"
   ]
  },
  {
   "cell_type": "code",
   "execution_count": 57,
   "id": "967acc04",
   "metadata": {},
   "outputs": [],
   "source": [
    "search_loc.send_keys(\"Bangalore\")"
   ]
  },
  {
   "cell_type": "code",
   "execution_count": 58,
   "id": "b90aca6f",
   "metadata": {},
   "outputs": [
    {
     "data": {
      "text/plain": [
       "<selenium.webdriver.remote.webelement.WebElement (session=\"d3874c10da9597fbef1403a27bb97dbf\", element=\"2f9ff079-96be-4265-b387-1d7cd99a4dad\")>"
      ]
     },
     "execution_count": 58,
     "metadata": {},
     "output_type": "execute_result"
    }
   ],
   "source": [
    "search_button=driver.find_element_by_xpath(\"/html/body/div/div[2]/div[3]/div/div/div[6]\")\n",
    "search_button"
   ]
  },
  {
   "cell_type": "code",
   "execution_count": 59,
   "id": "62d890ec",
   "metadata": {},
   "outputs": [],
   "source": [
    "search_button.click()"
   ]
  },
  {
   "cell_type": "code",
   "execution_count": 60,
   "id": "5878f06a",
   "metadata": {},
   "outputs": [],
   "source": [
    "salary_check=driver.find_element_by_xpath(\"/html/body/div[1]/div[3]/div[2]/section[1]/div[2]/div[4]/div[2]/div[1]/label/p/span[1]\")"
   ]
  },
  {
   "cell_type": "code",
   "execution_count": 61,
   "id": "7e0bdcbd",
   "metadata": {},
   "outputs": [],
   "source": [
    "salary_check.click()"
   ]
  },
  {
   "cell_type": "markdown",
   "id": "770e5bf1",
   "metadata": {},
   "source": [
    "# job title"
   ]
  },
  {
   "cell_type": "code",
   "execution_count": 62,
   "id": "4474acfc",
   "metadata": {},
   "outputs": [
    {
     "data": {
      "text/plain": [
       "[<selenium.webdriver.remote.webelement.WebElement (session=\"d3874c10da9597fbef1403a27bb97dbf\", element=\"f377014c-4176-4f04-8c4f-0d2ae4c352d7\")>,\n",
       " <selenium.webdriver.remote.webelement.WebElement (session=\"d3874c10da9597fbef1403a27bb97dbf\", element=\"ea6048fa-d557-4a31-be09-5a3abb7d02a3\")>,\n",
       " <selenium.webdriver.remote.webelement.WebElement (session=\"d3874c10da9597fbef1403a27bb97dbf\", element=\"6e3de035-5019-4484-b4d0-1298ed14beb7\")>,\n",
       " <selenium.webdriver.remote.webelement.WebElement (session=\"d3874c10da9597fbef1403a27bb97dbf\", element=\"700a7f4c-2304-4e5b-8bd8-1748064a1590\")>,\n",
       " <selenium.webdriver.remote.webelement.WebElement (session=\"d3874c10da9597fbef1403a27bb97dbf\", element=\"68a9df4c-3cff-47e2-8e31-2fe281638383\")>,\n",
       " <selenium.webdriver.remote.webelement.WebElement (session=\"d3874c10da9597fbef1403a27bb97dbf\", element=\"6b09c99e-7bfd-4e30-bcc6-e6c928ea69da\")>,\n",
       " <selenium.webdriver.remote.webelement.WebElement (session=\"d3874c10da9597fbef1403a27bb97dbf\", element=\"0e4ee79a-ce28-4cf5-95bb-40dce19da190\")>,\n",
       " <selenium.webdriver.remote.webelement.WebElement (session=\"d3874c10da9597fbef1403a27bb97dbf\", element=\"84926951-1f14-4473-affc-b92553f0aead\")>,\n",
       " <selenium.webdriver.remote.webelement.WebElement (session=\"d3874c10da9597fbef1403a27bb97dbf\", element=\"350f6dd1-1442-4be1-a435-037020acaa19\")>,\n",
       " <selenium.webdriver.remote.webelement.WebElement (session=\"d3874c10da9597fbef1403a27bb97dbf\", element=\"f17c6ac0-bac2-4e37-83a8-b05f2412815b\")>]"
      ]
     },
     "execution_count": 62,
     "metadata": {},
     "output_type": "execute_result"
    }
   ],
   "source": [
    "title_tags=driver.find_elements_by_xpath('//a[@class=\"title fw500 ellipsis\"]')\n",
    "len(title_tags)\n",
    "title_tags[0:10]"
   ]
  },
  {
   "cell_type": "code",
   "execution_count": 63,
   "id": "5376646c",
   "metadata": {},
   "outputs": [
    {
     "data": {
      "text/plain": [
       "['Job openings For Data Analyst - AOA',\n",
       " 'Hiring Data Analyst-Coimbatore/Bangalore',\n",
       " 'software developer & Testing / Business Analyst/Data Analyst/Python.',\n",
       " 'Data Coordinator | Data Analyst | MS Excel | Typing | Bangalore',\n",
       " 'Looking For Data Analyst',\n",
       " 'Data Analyst || Advance Excel || D Limit || Concatenate',\n",
       " 'Data Analyst',\n",
       " 'Data Analyst Work FROM Home',\n",
       " 'MIS Executive and Analyst | Data Analyst | Database Management',\n",
       " 'Hiring For Data Analyst from 1 yr of exp in Bangalore Location']"
      ]
     },
     "execution_count": 63,
     "metadata": {},
     "output_type": "execute_result"
    }
   ],
   "source": [
    "job_titles=[]\n",
    "\n",
    "for i in title_tags:\n",
    "    job_titles.append(i.text)\n",
    "len(job_titles)\n",
    "job_titles[0:10]"
   ]
  },
  {
   "cell_type": "markdown",
   "id": "305a4a80",
   "metadata": {},
   "source": [
    "# JOB LOCATION"
   ]
  },
  {
   "cell_type": "code",
   "execution_count": 64,
   "id": "ac1a4740",
   "metadata": {},
   "outputs": [
    {
     "data": {
      "text/plain": [
       "[<selenium.webdriver.remote.webelement.WebElement (session=\"d3874c10da9597fbef1403a27bb97dbf\", element=\"0d22863f-6b39-4667-8b45-96fb6855a313\")>,\n",
       " <selenium.webdriver.remote.webelement.WebElement (session=\"d3874c10da9597fbef1403a27bb97dbf\", element=\"0460b4aa-5ca0-47c8-bcdb-dc11ffd03401\")>,\n",
       " <selenium.webdriver.remote.webelement.WebElement (session=\"d3874c10da9597fbef1403a27bb97dbf\", element=\"c551c035-3455-4f3b-a5e2-e467bc8c1a7c\")>,\n",
       " <selenium.webdriver.remote.webelement.WebElement (session=\"d3874c10da9597fbef1403a27bb97dbf\", element=\"2f2600d0-2828-4471-987a-e9376c686338\")>,\n",
       " <selenium.webdriver.remote.webelement.WebElement (session=\"d3874c10da9597fbef1403a27bb97dbf\", element=\"308be55e-559d-4e96-9730-494558b0c721\")>,\n",
       " <selenium.webdriver.remote.webelement.WebElement (session=\"d3874c10da9597fbef1403a27bb97dbf\", element=\"03ff1374-53a6-4b65-846b-85cc0cf61759\")>,\n",
       " <selenium.webdriver.remote.webelement.WebElement (session=\"d3874c10da9597fbef1403a27bb97dbf\", element=\"56701da2-8ab3-4535-ac2f-e6978b3a6755\")>,\n",
       " <selenium.webdriver.remote.webelement.WebElement (session=\"d3874c10da9597fbef1403a27bb97dbf\", element=\"3ec63636-72b2-4105-bf39-2be9dde4c21f\")>,\n",
       " <selenium.webdriver.remote.webelement.WebElement (session=\"d3874c10da9597fbef1403a27bb97dbf\", element=\"336e794c-5a07-4575-aac0-89dfca22d15f\")>,\n",
       " <selenium.webdriver.remote.webelement.WebElement (session=\"d3874c10da9597fbef1403a27bb97dbf\", element=\"efc10dd5-6627-4c30-8489-98777bfc6879\")>]"
      ]
     },
     "execution_count": 64,
     "metadata": {},
     "output_type": "execute_result"
    }
   ],
   "source": [
    "location_tags=driver.find_elements_by_xpath('//li[@class=\"fleft grey-text br2 placeHolderLi location\"]')\n",
    "len(location_tags)\n",
    "location_tags[0:10]"
   ]
  },
  {
   "cell_type": "code",
   "execution_count": 65,
   "id": "4db622fb",
   "metadata": {},
   "outputs": [
    {
     "data": {
      "text/plain": [
       "['Bangalore/Bengaluru(4th Phase JP Nagar)',\n",
       " 'Coimbatore, Bangalore/Bengaluru',\n",
       " 'Pune, Bangalore/Bengaluru(Shivaji Nagar), Mumbai (All Areas)\\n(WFH during Covid)',\n",
       " 'Bangalore/Bengaluru(Sadashiva Nagar)',\n",
       " 'Ahmedabad, Bangalore/Bengaluru',\n",
       " 'Bangalore/Bengaluru',\n",
       " 'Bangalore/Bengaluru',\n",
       " 'Bangalore/Bengaluru\\n(WFH during Covid)',\n",
       " 'Bangalore/Bengaluru, Mumbai (All Areas)',\n",
       " 'Chennai, Bangalore/Bengaluru']"
      ]
     },
     "execution_count": 65,
     "metadata": {},
     "output_type": "execute_result"
    }
   ],
   "source": [
    "job_loc=[]\n",
    "\n",
    "for i in location_tags:\n",
    "    job_loc.append(i.text)\n",
    "len(job_loc)\n",
    "job_loc[0:10]"
   ]
  },
  {
   "cell_type": "markdown",
   "id": "0b728c22",
   "metadata": {},
   "source": [
    "# COMPANY NAME"
   ]
  },
  {
   "cell_type": "code",
   "execution_count": 66,
   "id": "b6314b60",
   "metadata": {},
   "outputs": [
    {
     "data": {
      "text/plain": [
       "[<selenium.webdriver.remote.webelement.WebElement (session=\"d3874c10da9597fbef1403a27bb97dbf\", element=\"1a31b2cc-b58d-4086-82e8-ab741ab1bd73\")>,\n",
       " <selenium.webdriver.remote.webelement.WebElement (session=\"d3874c10da9597fbef1403a27bb97dbf\", element=\"4df75bcf-3c71-4a3d-a6ba-8802b5d3aa40\")>,\n",
       " <selenium.webdriver.remote.webelement.WebElement (session=\"d3874c10da9597fbef1403a27bb97dbf\", element=\"64c36d3a-b16a-4665-9642-8db6f1e2f82d\")>,\n",
       " <selenium.webdriver.remote.webelement.WebElement (session=\"d3874c10da9597fbef1403a27bb97dbf\", element=\"b5c0d608-413d-49e4-af6e-3638198c5861\")>,\n",
       " <selenium.webdriver.remote.webelement.WebElement (session=\"d3874c10da9597fbef1403a27bb97dbf\", element=\"3826a77f-a37b-46fa-a49d-f293c6f37bbb\")>,\n",
       " <selenium.webdriver.remote.webelement.WebElement (session=\"d3874c10da9597fbef1403a27bb97dbf\", element=\"bb2d31b5-dfaf-46fb-8951-f8b4e00e75b5\")>,\n",
       " <selenium.webdriver.remote.webelement.WebElement (session=\"d3874c10da9597fbef1403a27bb97dbf\", element=\"622381e4-805f-4775-b434-2cf3490ff942\")>,\n",
       " <selenium.webdriver.remote.webelement.WebElement (session=\"d3874c10da9597fbef1403a27bb97dbf\", element=\"ccef311c-2e13-4028-9148-87ea72122b43\")>,\n",
       " <selenium.webdriver.remote.webelement.WebElement (session=\"d3874c10da9597fbef1403a27bb97dbf\", element=\"3eb0e13c-a323-4b2a-b352-7fd670c5b629\")>,\n",
       " <selenium.webdriver.remote.webelement.WebElement (session=\"d3874c10da9597fbef1403a27bb97dbf\", element=\"ed855c96-bb40-492a-a27a-fcf381f21813\")>]"
      ]
     },
     "execution_count": 66,
     "metadata": {},
     "output_type": "execute_result"
    }
   ],
   "source": [
    "company_tags=driver.find_elements_by_xpath('//a[@class=\"subTitle ellipsis fleft\"]')\n",
    "len(company_tags)\n",
    "company_tags[0:10]"
   ]
  },
  {
   "cell_type": "code",
   "execution_count": 67,
   "id": "5c8beed8",
   "metadata": {
    "scrolled": true
   },
   "outputs": [
    {
     "data": {
      "text/plain": [
       "['izmo ltd',\n",
       " 'KGISL BSS- Division of KG Information System Priva te Limited',\n",
       " 'SECRET TECHNOLOGIES INDIA VMS GROUP',\n",
       " 'Inspiration Manpower Consultancy Pvt. Ltd.',\n",
       " 'Trellance',\n",
       " 'Inspiration Manpower Consultancy Pvt. Ltd.',\n",
       " 'Capillary Technologies',\n",
       " 'Fine Homes and Interior',\n",
       " 'D2 Retro',\n",
       " 'PROMANTUS INDIA PRIVATE LIMITED']"
      ]
     },
     "execution_count": 67,
     "metadata": {},
     "output_type": "execute_result"
    }
   ],
   "source": [
    "company_names=[]\n",
    "for i in company_tags:\n",
    "    company_names.append(i.text)\n",
    "company_names[0:10]"
   ]
  },
  {
   "cell_type": "code",
   "execution_count": null,
   "id": "41c0e627",
   "metadata": {},
   "outputs": [],
   "source": []
  },
  {
   "cell_type": "code",
   "execution_count": null,
   "id": "dc8d361a",
   "metadata": {},
   "outputs": [],
   "source": []
  },
  {
   "cell_type": "markdown",
   "id": "ccf3947b",
   "metadata": {},
   "source": [
    "# EXPERIENCE REQUIRED"
   ]
  },
  {
   "cell_type": "code",
   "execution_count": 46,
   "id": "7020908a",
   "metadata": {},
   "outputs": [
    {
     "data": {
      "text/plain": [
       "[<selenium.webdriver.remote.webelement.WebElement (session=\"ba446bb3c929ebcfcaec019647c5db24\", element=\"cf4fac3a-20c5-44f0-9a23-8264f95da5b7\")>,\n",
       " <selenium.webdriver.remote.webelement.WebElement (session=\"ba446bb3c929ebcfcaec019647c5db24\", element=\"7061e21d-3693-4e34-82b0-c0a26ba5b1ad\")>,\n",
       " <selenium.webdriver.remote.webelement.WebElement (session=\"ba446bb3c929ebcfcaec019647c5db24\", element=\"4dbb4a05-2f66-4951-ba8e-0b588d2f8314\")>,\n",
       " <selenium.webdriver.remote.webelement.WebElement (session=\"ba446bb3c929ebcfcaec019647c5db24\", element=\"3566b0f1-238d-4be9-86a6-2c2b54893871\")>,\n",
       " <selenium.webdriver.remote.webelement.WebElement (session=\"ba446bb3c929ebcfcaec019647c5db24\", element=\"5c3d4fb3-c5ff-4e7a-b2ee-487c5ee1358d\")>,\n",
       " <selenium.webdriver.remote.webelement.WebElement (session=\"ba446bb3c929ebcfcaec019647c5db24\", element=\"46c2f2be-709f-4cae-92c6-f0b6ac96dbb7\")>,\n",
       " <selenium.webdriver.remote.webelement.WebElement (session=\"ba446bb3c929ebcfcaec019647c5db24\", element=\"aaeb945e-df89-410a-8604-6e05656438cd\")>,\n",
       " <selenium.webdriver.remote.webelement.WebElement (session=\"ba446bb3c929ebcfcaec019647c5db24\", element=\"4dba2000-2023-48bb-b829-daa33e4e595c\")>,\n",
       " <selenium.webdriver.remote.webelement.WebElement (session=\"ba446bb3c929ebcfcaec019647c5db24\", element=\"c307cab1-9d6e-4a4d-bf43-248b9cdfeb26\")>,\n",
       " <selenium.webdriver.remote.webelement.WebElement (session=\"ba446bb3c929ebcfcaec019647c5db24\", element=\"b40b46f8-7368-4f44-ad42-c05f325a3131\")>]"
      ]
     },
     "execution_count": 46,
     "metadata": {},
     "output_type": "execute_result"
    }
   ],
   "source": [
    "exp_tags=driver.find_elements_by_xpath('//li[@class=\"fleft grey-text br2 placeHolderLi experience\"]')\n",
    "len(exp_tags)\n",
    "exp_tags[0:10]"
   ]
  },
  {
   "cell_type": "code",
   "execution_count": 47,
   "id": "56ce3a96",
   "metadata": {},
   "outputs": [
    {
     "data": {
      "text/plain": [
       "['2-3 Yrs',\n",
       " '5-10 Yrs',\n",
       " '0-4 Yrs',\n",
       " '0-2 Yrs',\n",
       " '1-3 Yrs',\n",
       " '0-5 Yrs',\n",
       " '1-2 Yrs',\n",
       " '1-5 Yrs',\n",
       " '2-3 Yrs',\n",
       " '0-4 Yrs']"
      ]
     },
     "execution_count": 47,
     "metadata": {},
     "output_type": "execute_result"
    }
   ],
   "source": [
    "experience=[]\n",
    "\n",
    "for i in exp_tags:\n",
    "    experience.append(i.text)\n",
    "experience[0:10]"
   ]
  },
  {
   "cell_type": "code",
   "execution_count": 48,
   "id": "6e650e41",
   "metadata": {},
   "outputs": [],
   "source": [
    "import pandas as pd"
   ]
  },
  {
   "cell_type": "code",
   "execution_count": 68,
   "id": "83480db3",
   "metadata": {},
   "outputs": [
    {
     "data": {
      "text/plain": [
       "(20, 20, 18, 20)"
      ]
     },
     "execution_count": 68,
     "metadata": {},
     "output_type": "execute_result"
    }
   ],
   "source": [
    "len(job_titles),len(company_names),len(experience),len(job_loc)"
   ]
  },
  {
   "cell_type": "code",
   "execution_count": 69,
   "id": "fa82fabf",
   "metadata": {},
   "outputs": [
    {
     "data": {
      "text/html": [
       "<div>\n",
       "<style scoped>\n",
       "    .dataframe tbody tr th:only-of-type {\n",
       "        vertical-align: middle;\n",
       "    }\n",
       "\n",
       "    .dataframe tbody tr th {\n",
       "        vertical-align: top;\n",
       "    }\n",
       "\n",
       "    .dataframe thead th {\n",
       "        text-align: right;\n",
       "    }\n",
       "</style>\n",
       "<table border=\"1\" class=\"dataframe\">\n",
       "  <thead>\n",
       "    <tr style=\"text-align: right;\">\n",
       "      <th></th>\n",
       "      <th>job title</th>\n",
       "      <th>company</th>\n",
       "      <th>location</th>\n",
       "    </tr>\n",
       "  </thead>\n",
       "  <tbody>\n",
       "    <tr>\n",
       "      <th>0</th>\n",
       "      <td>Job openings For Data Analyst - AOA</td>\n",
       "      <td>izmo ltd</td>\n",
       "      <td>Bangalore/Bengaluru(4th Phase JP Nagar)</td>\n",
       "    </tr>\n",
       "    <tr>\n",
       "      <th>1</th>\n",
       "      <td>Hiring Data Analyst-Coimbatore/Bangalore</td>\n",
       "      <td>KGISL BSS- Division of KG Information System P...</td>\n",
       "      <td>Coimbatore, Bangalore/Bengaluru</td>\n",
       "    </tr>\n",
       "    <tr>\n",
       "      <th>2</th>\n",
       "      <td>software developer &amp; Testing / Business Analys...</td>\n",
       "      <td>SECRET TECHNOLOGIES INDIA VMS GROUP</td>\n",
       "      <td>Pune, Bangalore/Bengaluru(Shivaji Nagar), Mumb...</td>\n",
       "    </tr>\n",
       "    <tr>\n",
       "      <th>3</th>\n",
       "      <td>Data Coordinator | Data Analyst | MS Excel | T...</td>\n",
       "      <td>Inspiration Manpower Consultancy Pvt. Ltd.</td>\n",
       "      <td>Bangalore/Bengaluru(Sadashiva Nagar)</td>\n",
       "    </tr>\n",
       "    <tr>\n",
       "      <th>4</th>\n",
       "      <td>Looking For Data Analyst</td>\n",
       "      <td>Trellance</td>\n",
       "      <td>Ahmedabad, Bangalore/Bengaluru</td>\n",
       "    </tr>\n",
       "    <tr>\n",
       "      <th>5</th>\n",
       "      <td>Data Analyst || Advance Excel || D Limit || Co...</td>\n",
       "      <td>Inspiration Manpower Consultancy Pvt. Ltd.</td>\n",
       "      <td>Bangalore/Bengaluru</td>\n",
       "    </tr>\n",
       "    <tr>\n",
       "      <th>6</th>\n",
       "      <td>Data Analyst</td>\n",
       "      <td>Capillary Technologies</td>\n",
       "      <td>Bangalore/Bengaluru</td>\n",
       "    </tr>\n",
       "    <tr>\n",
       "      <th>7</th>\n",
       "      <td>Data Analyst Work FROM Home</td>\n",
       "      <td>Fine Homes and Interior</td>\n",
       "      <td>Bangalore/Bengaluru\\n(WFH during Covid)</td>\n",
       "    </tr>\n",
       "    <tr>\n",
       "      <th>8</th>\n",
       "      <td>MIS Executive and Analyst | Data Analyst | Dat...</td>\n",
       "      <td>D2 Retro</td>\n",
       "      <td>Bangalore/Bengaluru, Mumbai (All Areas)</td>\n",
       "    </tr>\n",
       "    <tr>\n",
       "      <th>9</th>\n",
       "      <td>Hiring For Data Analyst from 1 yr of exp in Ba...</td>\n",
       "      <td>PROMANTUS INDIA PRIVATE LIMITED</td>\n",
       "      <td>Chennai, Bangalore/Bengaluru</td>\n",
       "    </tr>\n",
       "    <tr>\n",
       "      <th>10</th>\n",
       "      <td>Data Operations Analyst</td>\n",
       "      <td>epiFi Technologies</td>\n",
       "      <td>Bangalore/Bengaluru</td>\n",
       "    </tr>\n",
       "    <tr>\n",
       "      <th>11</th>\n",
       "      <td>Senior Marketing Data Analyst</td>\n",
       "      <td>Tide Software</td>\n",
       "      <td>Bangalore/Bengaluru</td>\n",
       "    </tr>\n",
       "    <tr>\n",
       "      <th>12</th>\n",
       "      <td>Data Research Analyst</td>\n",
       "      <td>FUTURES AND CAREERS</td>\n",
       "      <td>Bangalore/Bengaluru</td>\n",
       "    </tr>\n",
       "    <tr>\n",
       "      <th>13</th>\n",
       "      <td>Data Analyst | MIS Executive | Operations Exec...</td>\n",
       "      <td>Sanctus HR</td>\n",
       "      <td>Bangalore/Bengaluru(Electronic City +4)</td>\n",
       "    </tr>\n",
       "    <tr>\n",
       "      <th>14</th>\n",
       "      <td>Data Analyst Internship</td>\n",
       "      <td>Heart It Out</td>\n",
       "      <td>Bangalore/Bengaluru</td>\n",
       "    </tr>\n",
       "    <tr>\n",
       "      <th>15</th>\n",
       "      <td>Data Analyst</td>\n",
       "      <td>St. John’s Research Institute</td>\n",
       "      <td>Bengaluru</td>\n",
       "    </tr>\n",
       "    <tr>\n",
       "      <th>16</th>\n",
       "      <td>Data Analyst</td>\n",
       "      <td>flocareer.com</td>\n",
       "      <td>Bangalore/Bengaluru</td>\n",
       "    </tr>\n",
       "    <tr>\n",
       "      <th>17</th>\n",
       "      <td>Financial Data Analyst</td>\n",
       "      <td>Moody's</td>\n",
       "      <td>Bangalore/Bengaluru</td>\n",
       "    </tr>\n",
       "    <tr>\n",
       "      <th>18</th>\n",
       "      <td>Data Analyst</td>\n",
       "      <td>Aldius Consulting Services Pvt Ltd (Paramantra)</td>\n",
       "      <td>Bangalore/Bengaluru</td>\n",
       "    </tr>\n",
       "    <tr>\n",
       "      <th>19</th>\n",
       "      <td>DA&amp;S - Data Science analyst</td>\n",
       "      <td>Accenture</td>\n",
       "      <td>Bangalore/Bengaluru</td>\n",
       "    </tr>\n",
       "  </tbody>\n",
       "</table>\n",
       "</div>"
      ],
      "text/plain": [
       "                                            job title  \\\n",
       "0                 Job openings For Data Analyst - AOA   \n",
       "1            Hiring Data Analyst-Coimbatore/Bangalore   \n",
       "2   software developer & Testing / Business Analys...   \n",
       "3   Data Coordinator | Data Analyst | MS Excel | T...   \n",
       "4                            Looking For Data Analyst   \n",
       "5   Data Analyst || Advance Excel || D Limit || Co...   \n",
       "6                                        Data Analyst   \n",
       "7                         Data Analyst Work FROM Home   \n",
       "8   MIS Executive and Analyst | Data Analyst | Dat...   \n",
       "9   Hiring For Data Analyst from 1 yr of exp in Ba...   \n",
       "10                            Data Operations Analyst   \n",
       "11                      Senior Marketing Data Analyst   \n",
       "12                              Data Research Analyst   \n",
       "13  Data Analyst | MIS Executive | Operations Exec...   \n",
       "14                            Data Analyst Internship   \n",
       "15                                       Data Analyst   \n",
       "16                                       Data Analyst   \n",
       "17                             Financial Data Analyst   \n",
       "18                                       Data Analyst   \n",
       "19                        DA&S - Data Science analyst   \n",
       "\n",
       "                                              company  \\\n",
       "0                                            izmo ltd   \n",
       "1   KGISL BSS- Division of KG Information System P...   \n",
       "2                 SECRET TECHNOLOGIES INDIA VMS GROUP   \n",
       "3          Inspiration Manpower Consultancy Pvt. Ltd.   \n",
       "4                                           Trellance   \n",
       "5          Inspiration Manpower Consultancy Pvt. Ltd.   \n",
       "6                              Capillary Technologies   \n",
       "7                             Fine Homes and Interior   \n",
       "8                                            D2 Retro   \n",
       "9                     PROMANTUS INDIA PRIVATE LIMITED   \n",
       "10                                 epiFi Technologies   \n",
       "11                                      Tide Software   \n",
       "12                                FUTURES AND CAREERS   \n",
       "13                                         Sanctus HR   \n",
       "14                                       Heart It Out   \n",
       "15                      St. John’s Research Institute   \n",
       "16                                      flocareer.com   \n",
       "17                                            Moody's   \n",
       "18    Aldius Consulting Services Pvt Ltd (Paramantra)   \n",
       "19                                          Accenture   \n",
       "\n",
       "                                             location  \n",
       "0             Bangalore/Bengaluru(4th Phase JP Nagar)  \n",
       "1                     Coimbatore, Bangalore/Bengaluru  \n",
       "2   Pune, Bangalore/Bengaluru(Shivaji Nagar), Mumb...  \n",
       "3                Bangalore/Bengaluru(Sadashiva Nagar)  \n",
       "4                      Ahmedabad, Bangalore/Bengaluru  \n",
       "5                                 Bangalore/Bengaluru  \n",
       "6                                 Bangalore/Bengaluru  \n",
       "7             Bangalore/Bengaluru\\n(WFH during Covid)  \n",
       "8             Bangalore/Bengaluru, Mumbai (All Areas)  \n",
       "9                        Chennai, Bangalore/Bengaluru  \n",
       "10                                Bangalore/Bengaluru  \n",
       "11                                Bangalore/Bengaluru  \n",
       "12                                Bangalore/Bengaluru  \n",
       "13            Bangalore/Bengaluru(Electronic City +4)  \n",
       "14                                Bangalore/Bengaluru  \n",
       "15                                          Bengaluru  \n",
       "16                                Bangalore/Bengaluru  \n",
       "17                                Bangalore/Bengaluru  \n",
       "18                                Bangalore/Bengaluru  \n",
       "19                                Bangalore/Bengaluru  "
      ]
     },
     "execution_count": 69,
     "metadata": {},
     "output_type": "execute_result"
    }
   ],
   "source": [
    "jobs=pd.DataFrame()\n",
    "jobs['job title']=job_titles\n",
    "jobs['company']=company_names\n",
    "jobs['location']=job_loc\n",
    "jobs\n"
   ]
  },
  {
   "cell_type": "markdown",
   "id": "b6ce07d9",
   "metadata": {},
   "source": [
    "# ANSWER2"
   ]
  },
  {
   "cell_type": "code",
   "execution_count": 94,
   "id": "74303092",
   "metadata": {},
   "outputs": [],
   "source": [
    "driver =webdriver.Chrome(r'C:/Users/Perfect Point/Desktop/chromedriver_win32/chromedriver.exe')"
   ]
  },
  {
   "cell_type": "code",
   "execution_count": null,
   "id": "a33078bc",
   "metadata": {},
   "outputs": [],
   "source": [
    "driver=webdriver.Chrome('chromedriver.exe')"
   ]
  },
  {
   "cell_type": "code",
   "execution_count": 95,
   "id": "3de2f2b8",
   "metadata": {},
   "outputs": [],
   "source": [
    "url='https://www.naukri.com'\n",
    "driver.get(url)"
   ]
  },
  {
   "cell_type": "code",
   "execution_count": 96,
   "id": "22368676",
   "metadata": {},
   "outputs": [
    {
     "data": {
      "text/plain": [
       "<selenium.webdriver.remote.webelement.WebElement (session=\"7fc565cdf9c2c9e3a457299c444d4904\", element=\"e1a291e5-3b13-4caf-9c6f-02b886390d27\")>"
      ]
     },
     "execution_count": 96,
     "metadata": {},
     "output_type": "execute_result"
    }
   ],
   "source": [
    "search_job=driver.find_element_by_class_name(\"suggestor-input\")\n",
    "search_job"
   ]
  },
  {
   "cell_type": "code",
   "execution_count": 97,
   "id": "d0800a41",
   "metadata": {},
   "outputs": [],
   "source": [
    "search_job.send_keys(\"Data Scientist\")"
   ]
  },
  {
   "cell_type": "code",
   "execution_count": 98,
   "id": "5cdf3130",
   "metadata": {},
   "outputs": [
    {
     "data": {
      "text/plain": [
       "<selenium.webdriver.remote.webelement.WebElement (session=\"7fc565cdf9c2c9e3a457299c444d4904\", element=\"aae55eb7-c131-4c21-a00f-dcc198e431ac\")>"
      ]
     },
     "execution_count": 98,
     "metadata": {},
     "output_type": "execute_result"
    }
   ],
   "source": [
    "search_loc=driver.find_element_by_xpath('/html/body/div/div[2]/div[3]/div/div/div[3]/div/div/div/input')\n",
    "search_loc"
   ]
  },
  {
   "cell_type": "code",
   "execution_count": 99,
   "id": "cbb575ad",
   "metadata": {},
   "outputs": [],
   "source": [
    "search_loc.send_keys(\"Bangalore\")"
   ]
  },
  {
   "cell_type": "code",
   "execution_count": 100,
   "id": "2b4a1830",
   "metadata": {},
   "outputs": [
    {
     "data": {
      "text/plain": [
       "<selenium.webdriver.remote.webelement.WebElement (session=\"7fc565cdf9c2c9e3a457299c444d4904\", element=\"ccd9ff9c-e415-482a-be4c-fab63ce51458\")>"
      ]
     },
     "execution_count": 100,
     "metadata": {},
     "output_type": "execute_result"
    }
   ],
   "source": [
    "search_button=driver.find_element_by_xpath('/html/body/div/div[2]/div[3]/div/div/div[6]')\n",
    "search_button"
   ]
  },
  {
   "cell_type": "code",
   "execution_count": 103,
   "id": "e3f6649a",
   "metadata": {},
   "outputs": [],
   "source": [
    "search_button.click()"
   ]
  },
  {
   "cell_type": "code",
   "execution_count": 104,
   "id": "845d0103",
   "metadata": {},
   "outputs": [],
   "source": [
    "salary_check=driver.find_element_by_xpath('/html/body/div[1]/div[3]/div[2]/section[1]a/div[2]/div[4]/div[2]/div[1]/label/p/span[1]')"
   ]
  },
  {
   "cell_type": "code",
   "execution_count": 29,
   "id": "6640f49b",
   "metadata": {},
   "outputs": [],
   "source": [
    "salary_check.click()"
   ]
  },
  {
   "cell_type": "code",
   "execution_count": 30,
   "id": "39d3fb79",
   "metadata": {},
   "outputs": [
    {
     "data": {
      "text/plain": [
       "[<selenium.webdriver.remote.webelement.WebElement (session=\"6ebcfc2fbd50fcc9bf0b1b2382939040\", element=\"ef93fd62-c0ae-4c81-b8fe-2c8bc34eafef\")>,\n",
       " <selenium.webdriver.remote.webelement.WebElement (session=\"6ebcfc2fbd50fcc9bf0b1b2382939040\", element=\"c0ec41c1-45cb-44cc-b953-8889105c8566\")>,\n",
       " <selenium.webdriver.remote.webelement.WebElement (session=\"6ebcfc2fbd50fcc9bf0b1b2382939040\", element=\"ab759832-30a8-4f97-af14-05a4511a38bf\")>,\n",
       " <selenium.webdriver.remote.webelement.WebElement (session=\"6ebcfc2fbd50fcc9bf0b1b2382939040\", element=\"e91cbcf2-0443-47be-89f4-5f29a1a57422\")>,\n",
       " <selenium.webdriver.remote.webelement.WebElement (session=\"6ebcfc2fbd50fcc9bf0b1b2382939040\", element=\"290b305d-76cc-43b9-9880-e030120aa4ad\")>,\n",
       " <selenium.webdriver.remote.webelement.WebElement (session=\"6ebcfc2fbd50fcc9bf0b1b2382939040\", element=\"fb4cb63c-f9a7-4c37-8c06-adab38587ee6\")>,\n",
       " <selenium.webdriver.remote.webelement.WebElement (session=\"6ebcfc2fbd50fcc9bf0b1b2382939040\", element=\"7d69d620-542f-4f7d-9aec-36e4b3f87f00\")>,\n",
       " <selenium.webdriver.remote.webelement.WebElement (session=\"6ebcfc2fbd50fcc9bf0b1b2382939040\", element=\"1946587d-4572-4b8a-aec4-212a3b084390\")>,\n",
       " <selenium.webdriver.remote.webelement.WebElement (session=\"6ebcfc2fbd50fcc9bf0b1b2382939040\", element=\"544406dc-123b-4414-8387-dce89bea5bbf\")>,\n",
       " <selenium.webdriver.remote.webelement.WebElement (session=\"6ebcfc2fbd50fcc9bf0b1b2382939040\", element=\"cd596bd7-52e6-4e28-8784-c1eaa289df42\")>]"
      ]
     },
     "execution_count": 30,
     "metadata": {},
     "output_type": "execute_result"
    }
   ],
   "source": [
    "title_tags=driver.find_elements_by_xpath('//a[@class=\"title fw500 ellipsis\"]')\n",
    "len(title_tags)\n",
    "title_tags[0:10]"
   ]
  },
  {
   "cell_type": "code",
   "execution_count": 31,
   "id": "326b220d",
   "metadata": {},
   "outputs": [
    {
     "data": {
      "text/plain": [
       "['Data Scientist',\n",
       " 'Data Scientist',\n",
       " 'Junior Data Scientist',\n",
       " 'Opportunity For Data Scientist Internship - Bengaluru',\n",
       " 'Data scientist (WFH)',\n",
       " 'Data scientist ( WFH )',\n",
       " 'Interested To join permanent position For Data Scientist(Bangalore)',\n",
       " 'Data Scientist - Immediate Joiners only',\n",
       " 'Data Scientist',\n",
       " 'Data Scientist']"
      ]
     },
     "execution_count": 31,
     "metadata": {},
     "output_type": "execute_result"
    }
   ],
   "source": [
    "job_titles=[]\n",
    "\n",
    "for i in title_tags:\n",
    "    job_titles.append(i.text)\n",
    "len(job_titles)\n",
    "job_titles[0:10]"
   ]
  },
  {
   "cell_type": "code",
   "execution_count": 32,
   "id": "22acd6c8",
   "metadata": {},
   "outputs": [
    {
     "data": {
      "text/plain": [
       "[<selenium.webdriver.remote.webelement.WebElement (session=\"6ebcfc2fbd50fcc9bf0b1b2382939040\", element=\"8e994b22-d431-4d76-955b-5b4e0574a2df\")>,\n",
       " <selenium.webdriver.remote.webelement.WebElement (session=\"6ebcfc2fbd50fcc9bf0b1b2382939040\", element=\"e634f99b-9709-4857-a255-98c510a0fcbc\")>,\n",
       " <selenium.webdriver.remote.webelement.WebElement (session=\"6ebcfc2fbd50fcc9bf0b1b2382939040\", element=\"df9a5d6a-e575-48bf-bdd3-62cfa1155489\")>,\n",
       " <selenium.webdriver.remote.webelement.WebElement (session=\"6ebcfc2fbd50fcc9bf0b1b2382939040\", element=\"5fc08ecc-a382-4b50-8bda-c81032a02d92\")>,\n",
       " <selenium.webdriver.remote.webelement.WebElement (session=\"6ebcfc2fbd50fcc9bf0b1b2382939040\", element=\"baa76774-e147-4ccf-925d-44c55545c292\")>,\n",
       " <selenium.webdriver.remote.webelement.WebElement (session=\"6ebcfc2fbd50fcc9bf0b1b2382939040\", element=\"e635c094-dd49-48e3-ac28-ba774b8be1e7\")>,\n",
       " <selenium.webdriver.remote.webelement.WebElement (session=\"6ebcfc2fbd50fcc9bf0b1b2382939040\", element=\"b09fcd70-cf3f-4dac-aba5-42e25ce1eb20\")>,\n",
       " <selenium.webdriver.remote.webelement.WebElement (session=\"6ebcfc2fbd50fcc9bf0b1b2382939040\", element=\"d1d33321-e864-4cb2-be67-d16ddf9976a5\")>,\n",
       " <selenium.webdriver.remote.webelement.WebElement (session=\"6ebcfc2fbd50fcc9bf0b1b2382939040\", element=\"6378ff4a-e435-46af-af43-89388500dbf1\")>,\n",
       " <selenium.webdriver.remote.webelement.WebElement (session=\"6ebcfc2fbd50fcc9bf0b1b2382939040\", element=\"3ff029cf-5548-4519-a1d6-d452e011ae65\")>]"
      ]
     },
     "execution_count": 32,
     "metadata": {},
     "output_type": "execute_result"
    }
   ],
   "source": [
    "location_tags=driver.find_elements_by_xpath('//li[@class=\"fleft grey-text br2 placeHolderLi location\"]')\n",
    "len(location_tags)\n",
    "location_tags[0:10]"
   ]
  },
  {
   "cell_type": "code",
   "execution_count": 33,
   "id": "77509f6a",
   "metadata": {},
   "outputs": [
    {
     "data": {
      "text/plain": [
       "['New Delhi, Gurgaon/Gurugram, Bangalore/Bengaluru, Delhi / NCR, Mumbai (All Areas)',\n",
       " 'Gurgaon/Gurugram, Bangalore/Bengaluru',\n",
       " 'Bangalore/Bengaluru',\n",
       " 'Indore, Bangalore/Bengaluru\\n(WFH during Covid)',\n",
       " 'Bangalore/Bengaluru',\n",
       " 'Bangalore/Bengaluru',\n",
       " 'Bangalore/Bengaluru\\n(WFH during Covid)',\n",
       " 'Bangalore/Bengaluru, Delhi / NCR',\n",
       " 'Bangalore/Bengaluru',\n",
       " 'Bangalore/Bengaluru(Koramangala)']"
      ]
     },
     "execution_count": 33,
     "metadata": {},
     "output_type": "execute_result"
    }
   ],
   "source": [
    "job_loc=[]\n",
    "\n",
    "for i in location_tags:\n",
    "    job_loc.append(i.text)\n",
    "len(job_loc)\n",
    "job_loc[0:10]"
   ]
  },
  {
   "cell_type": "code",
   "execution_count": 34,
   "id": "318f73b0",
   "metadata": {},
   "outputs": [
    {
     "data": {
      "text/plain": [
       "[<selenium.webdriver.remote.webelement.WebElement (session=\"6ebcfc2fbd50fcc9bf0b1b2382939040\", element=\"d4e78e06-0c76-43dd-9e99-ecf0eeb4601e\")>,\n",
       " <selenium.webdriver.remote.webelement.WebElement (session=\"6ebcfc2fbd50fcc9bf0b1b2382939040\", element=\"61936131-6afa-4d44-9b1e-2215bd59ecfa\")>,\n",
       " <selenium.webdriver.remote.webelement.WebElement (session=\"6ebcfc2fbd50fcc9bf0b1b2382939040\", element=\"696f1199-4a5d-41f8-aa4a-357b75910880\")>,\n",
       " <selenium.webdriver.remote.webelement.WebElement (session=\"6ebcfc2fbd50fcc9bf0b1b2382939040\", element=\"9932919b-2961-4162-90df-3d016cfc6686\")>,\n",
       " <selenium.webdriver.remote.webelement.WebElement (session=\"6ebcfc2fbd50fcc9bf0b1b2382939040\", element=\"9772115e-6561-4d96-b960-a790d9421347\")>,\n",
       " <selenium.webdriver.remote.webelement.WebElement (session=\"6ebcfc2fbd50fcc9bf0b1b2382939040\", element=\"e7bf824e-1d6a-48aa-a630-1642425a5eb5\")>,\n",
       " <selenium.webdriver.remote.webelement.WebElement (session=\"6ebcfc2fbd50fcc9bf0b1b2382939040\", element=\"dbc49db5-2fc9-41e0-8827-1c55cc703a13\")>,\n",
       " <selenium.webdriver.remote.webelement.WebElement (session=\"6ebcfc2fbd50fcc9bf0b1b2382939040\", element=\"a2a2f40b-8dc1-4090-b9a8-3065511c5b8a\")>,\n",
       " <selenium.webdriver.remote.webelement.WebElement (session=\"6ebcfc2fbd50fcc9bf0b1b2382939040\", element=\"d8c55624-6429-40a6-8886-7563fbf034f2\")>,\n",
       " <selenium.webdriver.remote.webelement.WebElement (session=\"6ebcfc2fbd50fcc9bf0b1b2382939040\", element=\"605df89c-1ca5-4e48-8c36-245390dad9cc\")>]"
      ]
     },
     "execution_count": 34,
     "metadata": {},
     "output_type": "execute_result"
    }
   ],
   "source": [
    "company_tags=driver.find_elements_by_xpath('//a[@)(class=\"subTitle ellipsis fleft\"]')\n",
    "len(company_tags)\n",
    "company_tags[0:10]"
   ]
  },
  {
   "cell_type": "code",
   "execution_count": 35,
   "id": "1d46e591",
   "metadata": {},
   "outputs": [
    {
     "data": {
      "text/plain": [
       "['Korea Trade Center',\n",
       " 'Genpact',\n",
       " 'Titan',\n",
       " 'Corner Stone Solutions',\n",
       " 'SPM HR SOLUTIONS',\n",
       " 'SPM Jobs',\n",
       " 'Pelatro Solutions Pvt. Ltd',\n",
       " 'MLAI Digital',\n",
       " 'Om Consulting',\n",
       " 'Kofluence Tech Pvt Ltd']"
      ]
     },
     "execution_count": 35,
     "metadata": {},
     "output_type": "execute_result"
    }
   ],
   "source": [
    "company_names=[]\n",
    "for i in company_tags:\n",
    "    company_names.append(i.text)\n",
    "company_names[0:10]"
   ]
  },
  {
   "cell_type": "code",
   "execution_count": 67,
   "id": "7c65fa9f",
   "metadata": {},
   "outputs": [
    {
     "data": {
      "text/plain": [
       "[<selenium.webdriver.remote.webelement.WebElement (session=\"5a52ed8909a3cbaf2eb3328293e9fdaa\", element=\"3baed100-4023-421f-b863-0db74b61fe09\")>,\n",
       " <selenium.webdriver.remote.webelement.WebElement (session=\"5a52ed8909a3cbaf2eb3328293e9fdaa\", element=\"cd63f7a8-145e-44ec-ab6b-f8de55967f26\")>,\n",
       " <selenium.webdriver.remote.webelement.WebElement (session=\"5a52ed8909a3cbaf2eb3328293e9fdaa\", element=\"9e7304c7-9d77-45df-9e2f-b6108455bcd8\")>,\n",
       " <selenium.webdriver.remote.webelement.WebElement (session=\"5a52ed8909a3cbaf2eb3328293e9fdaa\", element=\"6cdb588b-9efa-46b0-8c70-f5efa235e622\")>,\n",
       " <selenium.webdriver.remote.webelement.WebElement (session=\"5a52ed8909a3cbaf2eb3328293e9fdaa\", element=\"5b4b7060-a8eb-4ad9-8cdd-5756c36311b5\")>,\n",
       " <selenium.webdriver.remote.webelement.WebElement (session=\"5a52ed8909a3cbaf2eb3328293e9fdaa\", element=\"e537d6bc-f9c1-4173-855a-d648c5fefbab\")>,\n",
       " <selenium.webdriver.remote.webelement.WebElement (session=\"5a52ed8909a3cbaf2eb3328293e9fdaa\", element=\"2fa8bdac-de57-4b7a-b952-be68bf9be7ae\")>,\n",
       " <selenium.webdriver.remote.webelement.WebElement (session=\"5a52ed8909a3cbaf2eb3328293e9fdaa\", element=\"900725e7-3d6d-4aaf-b4ad-2a532b505893\")>,\n",
       " <selenium.webdriver.remote.webelement.WebElement (session=\"5a52ed8909a3cbaf2eb3328293e9fdaa\", element=\"67857448-2a02-4da4-9223-db90e68e6011\")>,\n",
       " <selenium.webdriver.remote.webelement.WebElement (session=\"5a52ed8909a3cbaf2eb3328293e9fdaa\", element=\"01bcb94f-df4c-40c5-94df-e4097f3c36cf\")>]"
      ]
     },
     "execution_count": 67,
     "metadata": {},
     "output_type": "execute_result"
    }
   ],
   "source": [
    "exp_tags=driver.find_elements_by_xpath('//li[@class=\"fleft grey-text br2 placeHolderLi experience\"]')\n",
    "len(exp_tags)\n",
    "exp_tags[0:10]"
   ]
  },
  {
   "cell_type": "code",
   "execution_count": 68,
   "id": "e198a5f3",
   "metadata": {},
   "outputs": [
    {
     "data": {
      "text/plain": [
       "['6-12 Yrs',\n",
       " '10-20 Yrs',\n",
       " '4-9 Yrs',\n",
       " '3-8 Yrs',\n",
       " '4-9 Yrs',\n",
       " '6-8 Yrs',\n",
       " '8-13 Yrs',\n",
       " '6-11 Yrs',\n",
       " '2-5 Yrs',\n",
       " '8-12 Yrs']"
      ]
     },
     "execution_count": 68,
     "metadata": {},
     "output_type": "execute_result"
    }
   ],
   "source": [
    "experience=[]\n",
    "\n",
    "for i in exp_tags:\n",
    "    experience.append(i.text)\n",
    "experience[0:10]"
   ]
  },
  {
   "cell_type": "code",
   "execution_count": 71,
   "id": "3e381d2f",
   "metadata": {},
   "outputs": [
    {
     "data": {
      "text/plain": [
       "(20, 20, 20, 20)"
      ]
     },
     "execution_count": 71,
     "metadata": {},
     "output_type": "execute_result"
    }
   ],
   "source": [
    "len(job_titles),len(company_names),len(experience),len(job_loc)"
   ]
  },
  {
   "cell_type": "code",
   "execution_count": 84,
   "id": "f7e89f00",
   "metadata": {},
   "outputs": [
    {
     "data": {
      "text/html": [
       "<div>\n",
       "<style scoped>\n",
       "    .dataframe tbody tr th:only-of-type {\n",
       "        vertical-align: middle;\n",
       "    }\n",
       "\n",
       "    .dataframe tbody tr th {\n",
       "        vertical-align: top;\n",
       "    }\n",
       "\n",
       "    .dataframe thead th {\n",
       "        text-align: right;\n",
       "    }\n",
       "</style>\n",
       "<table border=\"1\" class=\"dataframe\">\n",
       "  <thead>\n",
       "    <tr style=\"text-align: right;\">\n",
       "      <th></th>\n",
       "      <th>job title</th>\n",
       "      <th>company</th>\n",
       "      <th>location</th>\n",
       "      <th>experience</th>\n",
       "    </tr>\n",
       "  </thead>\n",
       "  <tbody>\n",
       "    <tr>\n",
       "      <th>0</th>\n",
       "      <td>Job openings For Data Analyst - AOA</td>\n",
       "      <td>izmo ltd</td>\n",
       "      <td>Bangalore/Bengaluru(4th Phase JP Nagar)</td>\n",
       "      <td>6-12 Yrs</td>\n",
       "    </tr>\n",
       "    <tr>\n",
       "      <th>1</th>\n",
       "      <td>Hiring Data Analyst-Coimbatore/Bangalore</td>\n",
       "      <td>KGISL BSS- Division of KG Information System P...</td>\n",
       "      <td>Coimbatore, Bangalore/Bengaluru</td>\n",
       "      <td>10-20 Yrs</td>\n",
       "    </tr>\n",
       "    <tr>\n",
       "      <th>2</th>\n",
       "      <td>software developer &amp; Testing / Business Analys...</td>\n",
       "      <td>SECRET TECHNOLOGIES INDIA VMS GROUP</td>\n",
       "      <td>Pune, Bangalore/Bengaluru(Shivaji Nagar), Mumb...</td>\n",
       "      <td>4-9 Yrs</td>\n",
       "    </tr>\n",
       "    <tr>\n",
       "      <th>3</th>\n",
       "      <td>Data Coordinator | Data Analyst | MS Excel | T...</td>\n",
       "      <td>Inspiration Manpower Consultancy Pvt. Ltd.</td>\n",
       "      <td>Bangalore/Bengaluru(Sadashiva Nagar)</td>\n",
       "      <td>3-8 Yrs</td>\n",
       "    </tr>\n",
       "    <tr>\n",
       "      <th>4</th>\n",
       "      <td>Looking For Data Analyst</td>\n",
       "      <td>Trellance</td>\n",
       "      <td>Ahmedabad, Bangalore/Bengaluru</td>\n",
       "      <td>4-9 Yrs</td>\n",
       "    </tr>\n",
       "    <tr>\n",
       "      <th>5</th>\n",
       "      <td>Data Analyst || Advance Excel || D Limit || Co...</td>\n",
       "      <td>Inspiration Manpower Consultancy Pvt. Ltd.</td>\n",
       "      <td>Bangalore/Bengaluru</td>\n",
       "      <td>6-8 Yrs</td>\n",
       "    </tr>\n",
       "    <tr>\n",
       "      <th>6</th>\n",
       "      <td>Data Analyst</td>\n",
       "      <td>Capillary Technologies</td>\n",
       "      <td>Bangalore/Bengaluru</td>\n",
       "      <td>8-13 Yrs</td>\n",
       "    </tr>\n",
       "    <tr>\n",
       "      <th>7</th>\n",
       "      <td>Data Analyst Work FROM Home</td>\n",
       "      <td>Fine Homes and Interior</td>\n",
       "      <td>Bangalore/Bengaluru\\n(WFH during Covid)</td>\n",
       "      <td>6-11 Yrs</td>\n",
       "    </tr>\n",
       "    <tr>\n",
       "      <th>8</th>\n",
       "      <td>MIS Executive and Analyst | Data Analyst | Dat...</td>\n",
       "      <td>D2 Retro</td>\n",
       "      <td>Bangalore/Bengaluru, Mumbai (All Areas)</td>\n",
       "      <td>2-5 Yrs</td>\n",
       "    </tr>\n",
       "    <tr>\n",
       "      <th>9</th>\n",
       "      <td>Hiring For Data Analyst from 1 yr of exp in Ba...</td>\n",
       "      <td>PROMANTUS INDIA PRIVATE LIMITED</td>\n",
       "      <td>Chennai, Bangalore/Bengaluru</td>\n",
       "      <td>8-12 Yrs</td>\n",
       "    </tr>\n",
       "    <tr>\n",
       "      <th>10</th>\n",
       "      <td>Data Operations Analyst</td>\n",
       "      <td>epiFi Technologies</td>\n",
       "      <td>Bangalore/Bengaluru</td>\n",
       "      <td>4-9 Yrs</td>\n",
       "    </tr>\n",
       "    <tr>\n",
       "      <th>11</th>\n",
       "      <td>Senior Marketing Data Analyst</td>\n",
       "      <td>Tide Software</td>\n",
       "      <td>Bangalore/Bengaluru</td>\n",
       "      <td>1-6 Yrs</td>\n",
       "    </tr>\n",
       "    <tr>\n",
       "      <th>12</th>\n",
       "      <td>Data Research Analyst</td>\n",
       "      <td>FUTURES AND CAREERS</td>\n",
       "      <td>Bangalore/Bengaluru</td>\n",
       "      <td>6-11 Yrs</td>\n",
       "    </tr>\n",
       "    <tr>\n",
       "      <th>13</th>\n",
       "      <td>Data Analyst | MIS Executive | Operations Exec...</td>\n",
       "      <td>Sanctus HR</td>\n",
       "      <td>Bangalore/Bengaluru(Electronic City +4)</td>\n",
       "      <td>5-7 Yrs</td>\n",
       "    </tr>\n",
       "    <tr>\n",
       "      <th>14</th>\n",
       "      <td>Data Analyst Internship</td>\n",
       "      <td>Heart It Out</td>\n",
       "      <td>Bangalore/Bengaluru</td>\n",
       "      <td>6-10 Yrs</td>\n",
       "    </tr>\n",
       "    <tr>\n",
       "      <th>15</th>\n",
       "      <td>Data Analyst</td>\n",
       "      <td>St. John’s Research Institute</td>\n",
       "      <td>Bengaluru</td>\n",
       "      <td>5-10 Yrs</td>\n",
       "    </tr>\n",
       "    <tr>\n",
       "      <th>16</th>\n",
       "      <td>Data Analyst</td>\n",
       "      <td>flocareer.com</td>\n",
       "      <td>Bangalore/Bengaluru</td>\n",
       "      <td>2-7 Yrs</td>\n",
       "    </tr>\n",
       "    <tr>\n",
       "      <th>17</th>\n",
       "      <td>Financial Data Analyst</td>\n",
       "      <td>Moody's</td>\n",
       "      <td>Bangalore/Bengaluru</td>\n",
       "      <td>4-6 Yrs</td>\n",
       "    </tr>\n",
       "    <tr>\n",
       "      <th>18</th>\n",
       "      <td>Data Analyst</td>\n",
       "      <td>Aldius Consulting Services Pvt Ltd (Paramantra)</td>\n",
       "      <td>Bangalore/Bengaluru</td>\n",
       "      <td>4-10 Yrs</td>\n",
       "    </tr>\n",
       "    <tr>\n",
       "      <th>19</th>\n",
       "      <td>DA&amp;S - Data Science analyst</td>\n",
       "      <td>Accenture</td>\n",
       "      <td>Bangalore/Bengaluru</td>\n",
       "      <td>3-4 Yrs</td>\n",
       "    </tr>\n",
       "  </tbody>\n",
       "</table>\n",
       "</div>"
      ],
      "text/plain": [
       "                                            job title  \\\n",
       "0                 Job openings For Data Analyst - AOA   \n",
       "1            Hiring Data Analyst-Coimbatore/Bangalore   \n",
       "2   software developer & Testing / Business Analys...   \n",
       "3   Data Coordinator | Data Analyst | MS Excel | T...   \n",
       "4                            Looking For Data Analyst   \n",
       "5   Data Analyst || Advance Excel || D Limit || Co...   \n",
       "6                                        Data Analyst   \n",
       "7                         Data Analyst Work FROM Home   \n",
       "8   MIS Executive and Analyst | Data Analyst | Dat...   \n",
       "9   Hiring For Data Analyst from 1 yr of exp in Ba...   \n",
       "10                            Data Operations Analyst   \n",
       "11                      Senior Marketing Data Analyst   \n",
       "12                              Data Research Analyst   \n",
       "13  Data Analyst | MIS Executive | Operations Exec...   \n",
       "14                            Data Analyst Internship   \n",
       "15                                       Data Analyst   \n",
       "16                                       Data Analyst   \n",
       "17                             Financial Data Analyst   \n",
       "18                                       Data Analyst   \n",
       "19                        DA&S - Data Science analyst   \n",
       "\n",
       "                                              company  \\\n",
       "0                                            izmo ltd   \n",
       "1   KGISL BSS- Division of KG Information System P...   \n",
       "2                 SECRET TECHNOLOGIES INDIA VMS GROUP   \n",
       "3          Inspiration Manpower Consultancy Pvt. Ltd.   \n",
       "4                                           Trellance   \n",
       "5          Inspiration Manpower Consultancy Pvt. Ltd.   \n",
       "6                              Capillary Technologies   \n",
       "7                             Fine Homes and Interior   \n",
       "8                                            D2 Retro   \n",
       "9                     PROMANTUS INDIA PRIVATE LIMITED   \n",
       "10                                 epiFi Technologies   \n",
       "11                                      Tide Software   \n",
       "12                                FUTURES AND CAREERS   \n",
       "13                                         Sanctus HR   \n",
       "14                                       Heart It Out   \n",
       "15                      St. John’s Research Institute   \n",
       "16                                      flocareer.com   \n",
       "17                                            Moody's   \n",
       "18    Aldius Consulting Services Pvt Ltd (Paramantra)   \n",
       "19                                          Accenture   \n",
       "\n",
       "                                             location experience  \n",
       "0             Bangalore/Bengaluru(4th Phase JP Nagar)   6-12 Yrs  \n",
       "1                     Coimbatore, Bangalore/Bengaluru  10-20 Yrs  \n",
       "2   Pune, Bangalore/Bengaluru(Shivaji Nagar), Mumb...    4-9 Yrs  \n",
       "3                Bangalore/Bengaluru(Sadashiva Nagar)    3-8 Yrs  \n",
       "4                      Ahmedabad, Bangalore/Bengaluru    4-9 Yrs  \n",
       "5                                 Bangalore/Bengaluru    6-8 Yrs  \n",
       "6                                 Bangalore/Bengaluru   8-13 Yrs  \n",
       "7             Bangalore/Bengaluru\\n(WFH during Covid)   6-11 Yrs  \n",
       "8             Bangalore/Bengaluru, Mumbai (All Areas)    2-5 Yrs  \n",
       "9                        Chennai, Bangalore/Bengaluru   8-12 Yrs  \n",
       "10                                Bangalore/Bengaluru    4-9 Yrs  \n",
       "11                                Bangalore/Bengaluru    1-6 Yrs  \n",
       "12                                Bangalore/Bengaluru   6-11 Yrs  \n",
       "13            Bangalore/Bengaluru(Electronic City +4)    5-7 Yrs  \n",
       "14                                Bangalore/Bengaluru   6-10 Yrs  \n",
       "15                                          Bengaluru   5-10 Yrs  \n",
       "16                                Bangalore/Bengaluru    2-7 Yrs  \n",
       "17                                Bangalore/Bengaluru    4-6 Yrs  \n",
       "18                                Bangalore/Bengaluru   4-10 Yrs  \n",
       "19                                Bangalore/Bengaluru    3-4 Yrs  "
      ]
     },
     "execution_count": 84,
     "metadata": {},
     "output_type": "execute_result"
    }
   ],
   "source": [
    "jobs1=pd.DataFrame()\n",
    "jobs1['job title']=job_titles\n",
    "jobs1['company']=company_names\n",
    "jobs1['location']=job_loc\n",
    "jobs1['experience']=experience\n",
    "jobs1"
   ]
  },
  {
   "cell_type": "markdown",
   "id": "cad87e81",
   "metadata": {},
   "source": [
    "# ANSWER3"
   ]
  },
  {
   "cell_type": "code",
   "execution_count": 125,
   "id": "bbdee2b1",
   "metadata": {},
   "outputs": [],
   "source": [
    "driver =webdriver.Chrome(r'C:/Users/Perfect Point/Desktop/chromedriver_win32/chromedriver.exe')"
   ]
  },
  {
   "cell_type": "code",
   "execution_count": null,
   "id": "62eedb0d",
   "metadata": {},
   "outputs": [],
   "source": [
    "driver=webdriver.Chrome('chromedriver.exe')"
   ]
  },
  {
   "cell_type": "code",
   "execution_count": 126,
   "id": "5fae964e",
   "metadata": {},
   "outputs": [],
   "source": [
    "url='https://www.naukri.com'\n",
    "driver.get(url)"
   ]
  },
  {
   "cell_type": "code",
   "execution_count": 127,
   "id": "88fcdb99",
   "metadata": {},
   "outputs": [
    {
     "data": {
      "text/plain": [
       "<selenium.webdriver.remote.webelement.WebElement (session=\"f89c0abae80c27e000306409644991c6\", element=\"dc23a2d4-8201-41e9-a5db-6a34c5464fc3\")>"
      ]
     },
     "execution_count": 127,
     "metadata": {},
     "output_type": "execute_result"
    }
   ],
   "source": [
    "search_job=driver.find_element_by_class_name(\"suggestor-input\")\n",
    "search_job"
   ]
  },
  {
   "cell_type": "code",
   "execution_count": 128,
   "id": "15dd3eba",
   "metadata": {},
   "outputs": [],
   "source": [
    "search_job.send_keys(\"Data Scientist\")"
   ]
  },
  {
   "cell_type": "code",
   "execution_count": 129,
   "id": "24afc947",
   "metadata": {},
   "outputs": [
    {
     "data": {
      "text/plain": [
       "<selenium.webdriver.remote.webelement.WebElement (session=\"f89c0abae80c27e000306409644991c6\", element=\"591cd78f-2ea0-4262-801a-187ca66bafe9\")>"
      ]
     },
     "execution_count": 129,
     "metadata": {},
     "output_type": "execute_result"
    }
   ],
   "source": [
    "search_loc=driver.find_element_by_xpath('/html/body/div/div[2]/div[3]/div/div/div[3]/div/div/div/input')\n",
    "search_loc"
   ]
  },
  {
   "cell_type": "code",
   "execution_count": 130,
   "id": "88240ed6",
   "metadata": {},
   "outputs": [],
   "source": [
    "search_loc.send_keys(\"Delhi/NCR\")"
   ]
  },
  {
   "cell_type": "code",
   "execution_count": 131,
   "id": "456e9ae2",
   "metadata": {},
   "outputs": [
    {
     "data": {
      "text/plain": [
       "<selenium.webdriver.remote.webelement.WebElement (session=\"f89c0abae80c27e000306409644991c6\", element=\"83d5203b-829e-45e9-900d-5e3722e7ff0a\")>"
      ]
     },
     "execution_count": 131,
     "metadata": {},
     "output_type": "execute_result"
    }
   ],
   "source": [
    "search_button=driver.find_element_by_xpath('/html/body/div/div[2]/div[3]/div/div/div[6]')\n",
    "search_button"
   ]
  },
  {
   "cell_type": "code",
   "execution_count": 132,
   "id": "97e06d31",
   "metadata": {},
   "outputs": [],
   "source": [
    "search_button.click()"
   ]
  },
  {
   "cell_type": "code",
   "execution_count": 133,
   "id": "6d4a4f1c",
   "metadata": {},
   "outputs": [],
   "source": [
    "salary_check=driver.find_element_by_xpath(\"/html/body/div[1]/div[3]/div[2]/section[1]/div[2]/div[4]/div[2]/div[1]/label/p/span[1]\")"
   ]
  },
  {
   "cell_type": "code",
   "execution_count": 134,
   "id": "ffdb6af6",
   "metadata": {},
   "outputs": [],
   "source": [
    "salary_check.click()"
   ]
  },
  {
   "cell_type": "code",
   "execution_count": null,
   "id": "e800ac2f",
   "metadata": {},
   "outputs": [],
   "source": []
  },
  {
   "cell_type": "markdown",
   "id": "4228c664",
   "metadata": {},
   "source": [
    "# JOB TITLE"
   ]
  },
  {
   "cell_type": "code",
   "execution_count": 135,
   "id": "5581cd75",
   "metadata": {},
   "outputs": [
    {
     "data": {
      "text/plain": [
       "[<selenium.webdriver.remote.webelement.WebElement (session=\"f89c0abae80c27e000306409644991c6\", element=\"9258c9b9-dff3-42b4-85cb-6504ba56654b\")>,\n",
       " <selenium.webdriver.remote.webelement.WebElement (session=\"f89c0abae80c27e000306409644991c6\", element=\"367ad924-7c33-406f-a04c-d7425b6d710c\")>,\n",
       " <selenium.webdriver.remote.webelement.WebElement (session=\"f89c0abae80c27e000306409644991c6\", element=\"a56ab4b0-92e8-463f-91dc-92784fa506be\")>,\n",
       " <selenium.webdriver.remote.webelement.WebElement (session=\"f89c0abae80c27e000306409644991c6\", element=\"f729fbec-e48e-4b11-afb6-5ada9f39c4a6\")>,\n",
       " <selenium.webdriver.remote.webelement.WebElement (session=\"f89c0abae80c27e000306409644991c6\", element=\"d3a97f32-f8f0-4eaf-9152-ba838dc7df75\")>,\n",
       " <selenium.webdriver.remote.webelement.WebElement (session=\"f89c0abae80c27e000306409644991c6\", element=\"0dd422ee-c143-486e-8f93-54dbb2472ef6\")>,\n",
       " <selenium.webdriver.remote.webelement.WebElement (session=\"f89c0abae80c27e000306409644991c6\", element=\"54505726-57df-4eef-8a9b-fa23fddb086b\")>,\n",
       " <selenium.webdriver.remote.webelement.WebElement (session=\"f89c0abae80c27e000306409644991c6\", element=\"335f6b75-70d5-4ee0-bfa4-b6c0c0a631a2\")>,\n",
       " <selenium.webdriver.remote.webelement.WebElement (session=\"f89c0abae80c27e000306409644991c6\", element=\"f67eb5ed-3c9b-41da-80b4-fc00035576e9\")>,\n",
       " <selenium.webdriver.remote.webelement.WebElement (session=\"f89c0abae80c27e000306409644991c6\", element=\"4a98d8e5-9033-40c5-9637-2e5af75bc298\")>]"
      ]
     },
     "execution_count": 135,
     "metadata": {},
     "output_type": "execute_result"
    }
   ],
   "source": [
    "title_tags=driver.find_elements_by_xpath('//a[@class=\"title fw500 ellipsis\"]')\n",
    "len(title_tags)\n",
    "title_tags[0:10]"
   ]
  },
  {
   "cell_type": "code",
   "execution_count": 136,
   "id": "3ea419dc",
   "metadata": {},
   "outputs": [
    {
     "data": {
      "text/plain": [
       "['Hiring For Senior Data Scientist-Noida',\n",
       " 'Excellent Opportunity For Freshers For AI/ML, Data Scientist, BI, QA',\n",
       " 'Data Analyst / Data Scientist / Business Analytics / Fresher - MNC',\n",
       " 'Data Scientist',\n",
       " 'Data scientist- Python',\n",
       " 'Data Scientist _NLP',\n",
       " 'Data Scientist (freelance)',\n",
       " 'Lead Data Scientist',\n",
       " 'Only Fresher / Python Data Scientist / Trainee / Analytics - MNC Jobs',\n",
       " 'Hiring For Data Scientist- Gurgaon/ Noida']"
      ]
     },
     "execution_count": 136,
     "metadata": {},
     "output_type": "execute_result"
    }
   ],
   "source": [
    "job_titles=[]\n",
    "\n",
    "for i in title_tags:\n",
    "    job_titles.append(i.text)\n",
    "len(job_titles)\n",
    "job_titles[0:10]"
   ]
  },
  {
   "cell_type": "code",
   "execution_count": null,
   "id": "0542eb1e",
   "metadata": {},
   "outputs": [],
   "source": []
  },
  {
   "cell_type": "markdown",
   "id": "875f75e4",
   "metadata": {},
   "source": [
    "# JOB LOCATION"
   ]
  },
  {
   "cell_type": "code",
   "execution_count": 137,
   "id": "098e23fc",
   "metadata": {},
   "outputs": [
    {
     "data": {
      "text/plain": [
       "[<selenium.webdriver.remote.webelement.WebElement (session=\"f89c0abae80c27e000306409644991c6\", element=\"048226c6-38d5-41b7-827e-b39b3bb6ebbd\")>,\n",
       " <selenium.webdriver.remote.webelement.WebElement (session=\"f89c0abae80c27e000306409644991c6\", element=\"451642c0-3a26-48db-b0c4-74f1adb91690\")>,\n",
       " <selenium.webdriver.remote.webelement.WebElement (session=\"f89c0abae80c27e000306409644991c6\", element=\"5f0c426f-bf0e-45f8-bdf4-f3a6fbf60f8c\")>,\n",
       " <selenium.webdriver.remote.webelement.WebElement (session=\"f89c0abae80c27e000306409644991c6\", element=\"916e923d-1425-4cd6-bb53-c0eb03897eb7\")>,\n",
       " <selenium.webdriver.remote.webelement.WebElement (session=\"f89c0abae80c27e000306409644991c6\", element=\"694302dc-507e-4912-8639-351a66fbfc97\")>,\n",
       " <selenium.webdriver.remote.webelement.WebElement (session=\"f89c0abae80c27e000306409644991c6\", element=\"835660f9-a10d-4ffb-a307-3ee2da435806\")>,\n",
       " <selenium.webdriver.remote.webelement.WebElement (session=\"f89c0abae80c27e000306409644991c6\", element=\"6537b31b-4603-4a55-8fd5-93dfe6819ae1\")>,\n",
       " <selenium.webdriver.remote.webelement.WebElement (session=\"f89c0abae80c27e000306409644991c6\", element=\"4d4d94b0-7a5c-4a96-9991-818b61a4d2c2\")>,\n",
       " <selenium.webdriver.remote.webelement.WebElement (session=\"f89c0abae80c27e000306409644991c6\", element=\"b8b51f7e-d44c-4ed9-ae6d-cb9c794ec92e\")>,\n",
       " <selenium.webdriver.remote.webelement.WebElement (session=\"f89c0abae80c27e000306409644991c6\", element=\"bda0629e-1ced-4496-b530-db61c3f729f7\")>]"
      ]
     },
     "execution_count": 137,
     "metadata": {},
     "output_type": "execute_result"
    }
   ],
   "source": [
    "location_tags=driver.find_elements_by_xpath('//li[@class=\"fleft grey-text br2 placeHolderLi location\"]')\n",
    "len(location_tags)\n",
    "location_tags[0:10]"
   ]
  },
  {
   "cell_type": "code",
   "execution_count": 138,
   "id": "629a751d",
   "metadata": {},
   "outputs": [
    {
     "data": {
      "text/plain": [
       "['Noida, New Delhi, Greater Noida',\n",
       " 'Noida, Kolkata, Hyderabad/Secunderabad, Pune, Chennai, Bangalore/Bengaluru, Delhi / NCR, Mumbai (All Areas)\\n(WFH during Covid)',\n",
       " 'Noida, New Delhi, Delhi / NCR',\n",
       " 'Hyderabad/Secunderabad, Pune, Gurgaon/Gurugram, Bangalore/Bengaluru, Delhi / NCR',\n",
       " 'Gurgaon/Gurugram',\n",
       " 'Bangalore/Bengaluru, Delhi / NCR\\n(WFH during Covid)',\n",
       " 'New Delhi, Delhi',\n",
       " 'Delhi / NCR\\n(WFH during Covid)',\n",
       " 'Noida, New Delhi, Gurgaon/Gurugram',\n",
       " 'Noida, Gurgaon/Gurugram']"
      ]
     },
     "execution_count": 138,
     "metadata": {},
     "output_type": "execute_result"
    }
   ],
   "source": [
    "job_loc=[]\n",
    "\n",
    "for i in location_tags:\n",
    "    job_loc.append(i.text)\n",
    "len(job_loc)\n",
    "job_loc[0:10]"
   ]
  },
  {
   "cell_type": "code",
   "execution_count": null,
   "id": "a3819311",
   "metadata": {},
   "outputs": [],
   "source": []
  },
  {
   "cell_type": "code",
   "execution_count": null,
   "id": "789f4120",
   "metadata": {},
   "outputs": [],
   "source": []
  },
  {
   "cell_type": "code",
   "execution_count": null,
   "id": "eecce09f",
   "metadata": {},
   "outputs": [],
   "source": []
  },
  {
   "cell_type": "code",
   "execution_count": null,
   "id": "9351543b",
   "metadata": {},
   "outputs": [],
   "source": []
  },
  {
   "cell_type": "markdown",
   "id": "f694b8a7",
   "metadata": {},
   "source": [
    "# COMPANY NAME"
   ]
  },
  {
   "cell_type": "code",
   "execution_count": 143,
   "id": "75cdad8b",
   "metadata": {},
   "outputs": [
    {
     "data": {
      "text/plain": [
       "[<selenium.webdriver.remote.webelement.WebElement (session=\"f89c0abae80c27e000306409644991c6\", element=\"798debf1-e396-4fd3-9bdc-387350e6024d\")>,\n",
       " <selenium.webdriver.remote.webelement.WebElement (session=\"f89c0abae80c27e000306409644991c6\", element=\"ca397c5e-b099-47d0-84ee-9d3c4acfa385\")>,\n",
       " <selenium.webdriver.remote.webelement.WebElement (session=\"f89c0abae80c27e000306409644991c6\", element=\"f49bb5de-30b9-4069-a4ac-2b988b0036c3\")>,\n",
       " <selenium.webdriver.remote.webelement.WebElement (session=\"f89c0abae80c27e000306409644991c6\", element=\"dbb673ac-4fa9-4b05-9728-d0ede8e9cf29\")>,\n",
       " <selenium.webdriver.remote.webelement.WebElement (session=\"f89c0abae80c27e000306409644991c6\", element=\"53ceb1cf-dacc-463f-bedf-14dae3abd6e0\")>,\n",
       " <selenium.webdriver.remote.webelement.WebElement (session=\"f89c0abae80c27e000306409644991c6\", element=\"7bfc006f-8fb3-47b9-b6fb-3aeada0d72d9\")>,\n",
       " <selenium.webdriver.remote.webelement.WebElement (session=\"f89c0abae80c27e000306409644991c6\", element=\"58140b52-3495-44d1-ba71-6dd8a5cd4f86\")>,\n",
       " <selenium.webdriver.remote.webelement.WebElement (session=\"f89c0abae80c27e000306409644991c6\", element=\"2563ec7f-4405-47be-8bdd-e6bdf2b519a9\")>,\n",
       " <selenium.webdriver.remote.webelement.WebElement (session=\"f89c0abae80c27e000306409644991c6\", element=\"d4da2657-661b-4105-b78c-71a26e787551\")>,\n",
       " <selenium.webdriver.remote.webelement.WebElement (session=\"f89c0abae80c27e000306409644991c6\", element=\"3c284ab7-f4c0-4423-b2dd-40640a6290fe\")>]"
      ]
     },
     "execution_count": 143,
     "metadata": {},
     "output_type": "execute_result"
    }
   ],
   "source": [
    "company_tags=driver.find_elements_by_xpath('//a[@class=\"subTitle ellipsis fleft\"]')\n",
    "len(company_tags)\n",
    "company_tags[0:10]"
   ]
  },
  {
   "cell_type": "code",
   "execution_count": 144,
   "id": "c260ebbc",
   "metadata": {},
   "outputs": [
    {
     "data": {
      "text/plain": [
       "['Lumiq.ai',\n",
       " 'NTT Data',\n",
       " 'GABA Consultancy services',\n",
       " 'Mount Talent Consulting Private Limited',\n",
       " 'TeamPlus Staffing Solution Pvt Ltd',\n",
       " 'EXL',\n",
       " '2Coms',\n",
       " 'Indihire HR Consultants Private Limited',\n",
       " 'GABA Consultancy services',\n",
       " 'Mascot e-services']"
      ]
     },
     "execution_count": 144,
     "metadata": {},
     "output_type": "execute_result"
    }
   ],
   "source": [
    "company_names=[]\n",
    "for i in company_tags:\n",
    "    company_names.append(i.text)\n",
    "company_names[0:10]"
   ]
  },
  {
   "cell_type": "code",
   "execution_count": null,
   "id": "32b53029",
   "metadata": {},
   "outputs": [],
   "source": []
  },
  {
   "cell_type": "markdown",
   "id": "4810b115",
   "metadata": {},
   "source": [
    "# EXPERIENCE"
   ]
  },
  {
   "cell_type": "code",
   "execution_count": 141,
   "id": "530b76e0",
   "metadata": {},
   "outputs": [
    {
     "data": {
      "text/plain": [
       "[<selenium.webdriver.remote.webelement.WebElement (session=\"f89c0abae80c27e000306409644991c6\", element=\"09315d00-d372-49c6-8936-16ecfe316d04\")>,\n",
       " <selenium.webdriver.remote.webelement.WebElement (session=\"f89c0abae80c27e000306409644991c6\", element=\"34e70714-5924-48b7-9718-6f216a096ecb\")>,\n",
       " <selenium.webdriver.remote.webelement.WebElement (session=\"f89c0abae80c27e000306409644991c6\", element=\"c9da6430-f310-48af-8ba0-fb74d7310c0f\")>,\n",
       " <selenium.webdriver.remote.webelement.WebElement (session=\"f89c0abae80c27e000306409644991c6\", element=\"e9003156-147f-4ae6-bb45-436268b01518\")>,\n",
       " <selenium.webdriver.remote.webelement.WebElement (session=\"f89c0abae80c27e000306409644991c6\", element=\"31eb8026-5749-41f9-a9bd-1989bf14fd9f\")>,\n",
       " <selenium.webdriver.remote.webelement.WebElement (session=\"f89c0abae80c27e000306409644991c6\", element=\"d4d34b20-94e0-44ad-8ccb-35594afc833f\")>,\n",
       " <selenium.webdriver.remote.webelement.WebElement (session=\"f89c0abae80c27e000306409644991c6\", element=\"11ea4282-f1ea-4334-a5b6-aeceda96b2fc\")>,\n",
       " <selenium.webdriver.remote.webelement.WebElement (session=\"f89c0abae80c27e000306409644991c6\", element=\"4b2b2309-2626-465e-8dde-5fdf1c4df4da\")>,\n",
       " <selenium.webdriver.remote.webelement.WebElement (session=\"f89c0abae80c27e000306409644991c6\", element=\"cb452fb0-b958-4447-9690-dc6594e0fb7e\")>,\n",
       " <selenium.webdriver.remote.webelement.WebElement (session=\"f89c0abae80c27e000306409644991c6\", element=\"f8acc282-64b2-4b56-a91f-c237dbf12e26\")>]"
      ]
     },
     "execution_count": 141,
     "metadata": {},
     "output_type": "execute_result"
    }
   ],
   "source": [
    "exp_tags=driver.find_elements_by_xpath('//li[@class=\"fleft grey-text br2 placeHolderLi experience\"]')\n",
    "len(exp_tags)\n",
    "exp_tags[0:10]"
   ]
  },
  {
   "cell_type": "code",
   "execution_count": 142,
   "id": "50b0c362",
   "metadata": {},
   "outputs": [
    {
     "data": {
      "text/plain": [
       "['2-6 Yrs',\n",
       " '0-0 Yrs',\n",
       " '0-0 Yrs',\n",
       " '1-4 Yrs',\n",
       " '3-6 Yrs',\n",
       " '3-8 Yrs',\n",
       " '2-7 Yrs',\n",
       " '2-4 Yrs',\n",
       " '0-0 Yrs',\n",
       " '2-4 Yrs']"
      ]
     },
     "execution_count": 142,
     "metadata": {},
     "output_type": "execute_result"
    }
   ],
   "source": [
    "experience=[]\n",
    "\n",
    "for i in exp_tags:\n",
    "    experience.append(i.text)\n",
    "experience[0:10]"
   ]
  },
  {
   "cell_type": "code",
   "execution_count": 145,
   "id": "eb835ba9",
   "metadata": {},
   "outputs": [
    {
     "data": {
      "text/plain": [
       "(20, 20, 20, 20)"
      ]
     },
     "execution_count": 145,
     "metadata": {},
     "output_type": "execute_result"
    }
   ],
   "source": [
    "len(job_titles),len(company_names),len(experience),len(job_loc)"
   ]
  },
  {
   "cell_type": "code",
   "execution_count": 146,
   "id": "2ed87a2a",
   "metadata": {},
   "outputs": [
    {
     "data": {
      "text/html": [
       "<div>\n",
       "<style scoped>\n",
       "    .dataframe tbody tr th:only-of-type {\n",
       "        vertical-align: middle;\n",
       "    }\n",
       "\n",
       "    .dataframe tbody tr th {\n",
       "        vertical-align: top;\n",
       "    }\n",
       "\n",
       "    .dataframe thead th {\n",
       "        text-align: right;\n",
       "    }\n",
       "</style>\n",
       "<table border=\"1\" class=\"dataframe\">\n",
       "  <thead>\n",
       "    <tr style=\"text-align: right;\">\n",
       "      <th></th>\n",
       "      <th>job title</th>\n",
       "      <th>company</th>\n",
       "      <th>location</th>\n",
       "      <th>experience</th>\n",
       "    </tr>\n",
       "  </thead>\n",
       "  <tbody>\n",
       "    <tr>\n",
       "      <th>0</th>\n",
       "      <td>Hiring For Senior Data Scientist-Noida</td>\n",
       "      <td>Lumiq.ai</td>\n",
       "      <td>Noida, New Delhi, Greater Noida</td>\n",
       "      <td>2-6 Yrs</td>\n",
       "    </tr>\n",
       "    <tr>\n",
       "      <th>1</th>\n",
       "      <td>Excellent Opportunity For Freshers For AI/ML, ...</td>\n",
       "      <td>NTT Data</td>\n",
       "      <td>Noida, Kolkata, Hyderabad/Secunderabad, Pune, ...</td>\n",
       "      <td>0-0 Yrs</td>\n",
       "    </tr>\n",
       "    <tr>\n",
       "      <th>2</th>\n",
       "      <td>Data Analyst / Data Scientist / Business Analy...</td>\n",
       "      <td>GABA Consultancy services</td>\n",
       "      <td>Noida, New Delhi, Delhi / NCR</td>\n",
       "      <td>0-0 Yrs</td>\n",
       "    </tr>\n",
       "    <tr>\n",
       "      <th>3</th>\n",
       "      <td>Data Scientist</td>\n",
       "      <td>Mount Talent Consulting Private Limited</td>\n",
       "      <td>Hyderabad/Secunderabad, Pune, Gurgaon/Gurugram...</td>\n",
       "      <td>1-4 Yrs</td>\n",
       "    </tr>\n",
       "    <tr>\n",
       "      <th>4</th>\n",
       "      <td>Data scientist- Python</td>\n",
       "      <td>TeamPlus Staffing Solution Pvt Ltd</td>\n",
       "      <td>Gurgaon/Gurugram</td>\n",
       "      <td>3-6 Yrs</td>\n",
       "    </tr>\n",
       "    <tr>\n",
       "      <th>5</th>\n",
       "      <td>Data Scientist _NLP</td>\n",
       "      <td>EXL</td>\n",
       "      <td>Bangalore/Bengaluru, Delhi / NCR\\n(WFH during ...</td>\n",
       "      <td>3-8 Yrs</td>\n",
       "    </tr>\n",
       "    <tr>\n",
       "      <th>6</th>\n",
       "      <td>Data Scientist (freelance)</td>\n",
       "      <td>2Coms</td>\n",
       "      <td>New Delhi, Delhi</td>\n",
       "      <td>2-7 Yrs</td>\n",
       "    </tr>\n",
       "    <tr>\n",
       "      <th>7</th>\n",
       "      <td>Lead Data Scientist</td>\n",
       "      <td>Indihire HR Consultants Private Limited</td>\n",
       "      <td>Delhi / NCR\\n(WFH during Covid)</td>\n",
       "      <td>2-4 Yrs</td>\n",
       "    </tr>\n",
       "    <tr>\n",
       "      <th>8</th>\n",
       "      <td>Only Fresher / Python Data Scientist / Trainee...</td>\n",
       "      <td>GABA Consultancy services</td>\n",
       "      <td>Noida, New Delhi, Gurgaon/Gurugram</td>\n",
       "      <td>0-0 Yrs</td>\n",
       "    </tr>\n",
       "    <tr>\n",
       "      <th>9</th>\n",
       "      <td>Hiring For Data Scientist- Gurgaon/ Noida</td>\n",
       "      <td>Mascot e-services</td>\n",
       "      <td>Noida, Gurgaon/Gurugram</td>\n",
       "      <td>2-4 Yrs</td>\n",
       "    </tr>\n",
       "    <tr>\n",
       "      <th>10</th>\n",
       "      <td>Urgent Requirement || Data Scientist || Noida</td>\n",
       "      <td>HCL</td>\n",
       "      <td>Noida, Delhi / NCR</td>\n",
       "      <td>3-8 Yrs</td>\n",
       "    </tr>\n",
       "    <tr>\n",
       "      <th>11</th>\n",
       "      <td>Senior Data Scientist</td>\n",
       "      <td>iNICU</td>\n",
       "      <td>Delhi</td>\n",
       "      <td>1-5 Yrs</td>\n",
       "    </tr>\n",
       "    <tr>\n",
       "      <th>12</th>\n",
       "      <td>Junior Data Analyst/ Scientist- Fresher Position</td>\n",
       "      <td>Sejal Consulting Hub</td>\n",
       "      <td>Kolkata, Hyderabad/Secunderabad, Pune, Ahmedab...</td>\n",
       "      <td>0-3 Yrs</td>\n",
       "    </tr>\n",
       "    <tr>\n",
       "      <th>13</th>\n",
       "      <td>Data Scientist</td>\n",
       "      <td>Boston Consulting Group</td>\n",
       "      <td>New Delhi</td>\n",
       "      <td>2-5 Yrs</td>\n",
       "    </tr>\n",
       "    <tr>\n",
       "      <th>14</th>\n",
       "      <td>Data Scientist</td>\n",
       "      <td>Stefanini</td>\n",
       "      <td>Noida</td>\n",
       "      <td>3-8 Yrs</td>\n",
       "    </tr>\n",
       "    <tr>\n",
       "      <th>15</th>\n",
       "      <td>Lead Data Scientist - KYC/Fraud/Marketing</td>\n",
       "      <td>Tide Software</td>\n",
       "      <td>New Delhi</td>\n",
       "      <td>1-6 Yrs</td>\n",
       "    </tr>\n",
       "    <tr>\n",
       "      <th>16</th>\n",
       "      <td>Open Project | IT Consulting | Data Scientist</td>\n",
       "      <td>Virtuoso Staffing Solutions Pvt Ltd</td>\n",
       "      <td>Noida, New Delhi, Bangalore Rural, Bangalore/B...</td>\n",
       "      <td>5-10 Yrs</td>\n",
       "    </tr>\n",
       "    <tr>\n",
       "      <th>17</th>\n",
       "      <td>Data Scientist</td>\n",
       "      <td>BlackBuck</td>\n",
       "      <td>Gurgaon, Bengaluru</td>\n",
       "      <td>3-7 Yrs</td>\n",
       "    </tr>\n",
       "    <tr>\n",
       "      <th>18</th>\n",
       "      <td>Data Scientist</td>\n",
       "      <td>Country Veggie</td>\n",
       "      <td>Bharuch, Jaipur, Bhopal, Mumbai, Jhansi, Nagpu...</td>\n",
       "      <td>1-3 Yrs</td>\n",
       "    </tr>\n",
       "    <tr>\n",
       "      <th>19</th>\n",
       "      <td>Data Scientist</td>\n",
       "      <td>NAVIKENZ INDIA PRIVATE LIMITED</td>\n",
       "      <td>Hyderabad/Secunderabad, Bangalore/Bengaluru, D...</td>\n",
       "      <td>2-5 Yrs</td>\n",
       "    </tr>\n",
       "  </tbody>\n",
       "</table>\n",
       "</div>"
      ],
      "text/plain": [
       "                                            job title  \\\n",
       "0              Hiring For Senior Data Scientist-Noida   \n",
       "1   Excellent Opportunity For Freshers For AI/ML, ...   \n",
       "2   Data Analyst / Data Scientist / Business Analy...   \n",
       "3                                      Data Scientist   \n",
       "4                              Data scientist- Python   \n",
       "5                                 Data Scientist _NLP   \n",
       "6                          Data Scientist (freelance)   \n",
       "7                                 Lead Data Scientist   \n",
       "8   Only Fresher / Python Data Scientist / Trainee...   \n",
       "9           Hiring For Data Scientist- Gurgaon/ Noida   \n",
       "10      Urgent Requirement || Data Scientist || Noida   \n",
       "11                              Senior Data Scientist   \n",
       "12   Junior Data Analyst/ Scientist- Fresher Position   \n",
       "13                                     Data Scientist   \n",
       "14                                     Data Scientist   \n",
       "15          Lead Data Scientist - KYC/Fraud/Marketing   \n",
       "16      Open Project | IT Consulting | Data Scientist   \n",
       "17                                     Data Scientist   \n",
       "18                                     Data Scientist   \n",
       "19                                     Data Scientist   \n",
       "\n",
       "                                    company  \\\n",
       "0                                  Lumiq.ai   \n",
       "1                                  NTT Data   \n",
       "2                 GABA Consultancy services   \n",
       "3   Mount Talent Consulting Private Limited   \n",
       "4        TeamPlus Staffing Solution Pvt Ltd   \n",
       "5                                       EXL   \n",
       "6                                     2Coms   \n",
       "7   Indihire HR Consultants Private Limited   \n",
       "8                 GABA Consultancy services   \n",
       "9                         Mascot e-services   \n",
       "10                                      HCL   \n",
       "11                                    iNICU   \n",
       "12                     Sejal Consulting Hub   \n",
       "13                  Boston Consulting Group   \n",
       "14                                Stefanini   \n",
       "15                            Tide Software   \n",
       "16      Virtuoso Staffing Solutions Pvt Ltd   \n",
       "17                                BlackBuck   \n",
       "18                           Country Veggie   \n",
       "19           NAVIKENZ INDIA PRIVATE LIMITED   \n",
       "\n",
       "                                             location experience  \n",
       "0                     Noida, New Delhi, Greater Noida    2-6 Yrs  \n",
       "1   Noida, Kolkata, Hyderabad/Secunderabad, Pune, ...    0-0 Yrs  \n",
       "2                       Noida, New Delhi, Delhi / NCR    0-0 Yrs  \n",
       "3   Hyderabad/Secunderabad, Pune, Gurgaon/Gurugram...    1-4 Yrs  \n",
       "4                                    Gurgaon/Gurugram    3-6 Yrs  \n",
       "5   Bangalore/Bengaluru, Delhi / NCR\\n(WFH during ...    3-8 Yrs  \n",
       "6                                    New Delhi, Delhi    2-7 Yrs  \n",
       "7                     Delhi / NCR\\n(WFH during Covid)    2-4 Yrs  \n",
       "8                  Noida, New Delhi, Gurgaon/Gurugram    0-0 Yrs  \n",
       "9                             Noida, Gurgaon/Gurugram    2-4 Yrs  \n",
       "10                                 Noida, Delhi / NCR    3-8 Yrs  \n",
       "11                                              Delhi    1-5 Yrs  \n",
       "12  Kolkata, Hyderabad/Secunderabad, Pune, Ahmedab...    0-3 Yrs  \n",
       "13                                          New Delhi    2-5 Yrs  \n",
       "14                                              Noida    3-8 Yrs  \n",
       "15                                          New Delhi    1-6 Yrs  \n",
       "16  Noida, New Delhi, Bangalore Rural, Bangalore/B...   5-10 Yrs  \n",
       "17                                 Gurgaon, Bengaluru    3-7 Yrs  \n",
       "18  Bharuch, Jaipur, Bhopal, Mumbai, Jhansi, Nagpu...    1-3 Yrs  \n",
       "19  Hyderabad/Secunderabad, Bangalore/Bengaluru, D...    2-5 Yrs  "
      ]
     },
     "execution_count": 146,
     "metadata": {},
     "output_type": "execute_result"
    }
   ],
   "source": [
    "jobs1=pd.DataFrame()\n",
    "jobs1['job title']=job_titles\n",
    "jobs1['company']=company_names\n",
    "jobs1['location']=job_loc\n",
    "jobs1['experience']=experience\n",
    "jobs1"
   ]
  },
  {
   "cell_type": "code",
   "execution_count": null,
   "id": "0821bd53",
   "metadata": {},
   "outputs": [],
   "source": []
  },
  {
   "cell_type": "code",
   "execution_count": null,
   "id": "ec31c3fe",
   "metadata": {},
   "outputs": [],
   "source": []
  },
  {
   "cell_type": "code",
   "execution_count": null,
   "id": "70de3794",
   "metadata": {},
   "outputs": [],
   "source": []
  },
  {
   "cell_type": "markdown",
   "id": "25e91fe3",
   "metadata": {},
   "source": [
    "# ANSWER4"
   ]
  },
  {
   "cell_type": "code",
   "execution_count": 147,
   "id": "1e9c7db4",
   "metadata": {},
   "outputs": [],
   "source": [
    "driver =webdriver.Chrome(r'C:/Users/Perfect Point/Desktop/chromedriver_win32/chromedriver.exe')"
   ]
  },
  {
   "cell_type": "code",
   "execution_count": null,
   "id": "121d2026",
   "metadata": {},
   "outputs": [],
   "source": [
    "driver=webdriver.Chrome('chromedriver.exe')"
   ]
  },
  {
   "cell_type": "code",
   "execution_count": 148,
   "id": "80692a01",
   "metadata": {},
   "outputs": [],
   "source": [
    "driver.get('https://www.flipkart.com/')"
   ]
  },
  {
   "cell_type": "code",
   "execution_count": 149,
   "id": "d8513b7a",
   "metadata": {},
   "outputs": [],
   "source": [
    "search_prod = driver.find_element_by_xpath(\"/html/body/div[1]/div/div[1]/div[1]/div[2]/div[2]/form/div/div/input\")\n",
    "search_prod.send_keys('Sunglasses')\n",
    "search_icon = driver.find_element_by_xpath(\"//button[@class='L0Z3Pu']\")\n",
    "search_icon.click()"
   ]
  },
  {
   "cell_type": "code",
   "execution_count": 150,
   "id": "c809c372",
   "metadata": {},
   "outputs": [],
   "source": [
    "page_url = [] # a list containg url's of every page\n",
    "url = driver.find_elements_by_xpath(\"//nav[@class='yFHi8N']//a\")\n",
    "for i in url:\n",
    "    page_url.append(i.get_attribute('href'))"
   ]
  },
  {
   "cell_type": "code",
   "execution_count": 151,
   "id": "686765bd",
   "metadata": {},
   "outputs": [
    {
     "data": {
      "text/plain": [
       "['https://www.flipkart.com/search?q=Sunglasses&otracker=search&otracker1=search&marketplace=FLIPKART&as-show=off&as=off&page=1',\n",
       " 'https://www.flipkart.com/search?q=Sunglasses&otracker=search&otracker1=search&marketplace=FLIPKART&as-show=off&as=off&page=2',\n",
       " 'https://www.flipkart.com/search?q=Sunglasses&otracker=search&otracker1=search&marketplace=FLIPKART&as-show=off&as=off&page=3',\n",
       " 'https://www.flipkart.com/search?q=Sunglasses&otracker=search&otracker1=search&marketplace=FLIPKART&as-show=off&as=off&page=4',\n",
       " 'https://www.flipkart.com/search?q=Sunglasses&otracker=search&otracker1=search&marketplace=FLIPKART&as-show=off&as=off&page=5',\n",
       " 'https://www.flipkart.com/search?q=Sunglasses&otracker=search&otracker1=search&marketplace=FLIPKART&as-show=off&as=off&page=6',\n",
       " 'https://www.flipkart.com/search?q=Sunglasses&otracker=search&otracker1=search&marketplace=FLIPKART&as-show=off&as=off&page=7',\n",
       " 'https://www.flipkart.com/search?q=Sunglasses&otracker=search&otracker1=search&marketplace=FLIPKART&as-show=off&as=off&page=8',\n",
       " 'https://www.flipkart.com/search?q=Sunglasses&otracker=search&otracker1=search&marketplace=FLIPKART&as-show=off&as=off&page=9',\n",
       " 'https://www.flipkart.com/search?q=Sunglasses&otracker=search&otracker1=search&marketplace=FLIPKART&as-show=off&as=off&page=10',\n",
       " 'https://www.flipkart.com/search?q=Sunglasses&otracker=search&otracker1=search&marketplace=FLIPKART&as-show=off&as=off&page=2']"
      ]
     },
     "execution_count": 151,
     "metadata": {},
     "output_type": "execute_result"
    }
   ],
   "source": [
    "page_url"
   ]
  },
  {
   "cell_type": "code",
   "execution_count": 158,
   "id": "29696a5a",
   "metadata": {},
   "outputs": [],
   "source": [
    "brand_names=[]\n",
    "for i in page_url[:3]:\n",
    "    driver.get(i)\n",
    "    brands=driver.find_elements_by_class_name('_2WkVRV')\n",
    "    for i in brands:\n",
    "        brand_names.append(i.text)"
   ]
  },
  {
   "cell_type": "code",
   "execution_count": 159,
   "id": "c916da83",
   "metadata": {},
   "outputs": [
    {
     "data": {
      "text/plain": [
       "120"
      ]
     },
     "execution_count": 159,
     "metadata": {},
     "output_type": "execute_result"
    }
   ],
   "source": [
    "len(brand_names)"
   ]
  },
  {
   "cell_type": "code",
   "execution_count": 160,
   "id": "616f8a17",
   "metadata": {},
   "outputs": [
    {
     "data": {
      "text/plain": [
       "['VINCENT CHASE',\n",
       " 'Singco India',\n",
       " 'SRPM',\n",
       " 'SUNBEE',\n",
       " 'Elligator',\n",
       " 'PIRASO',\n",
       " 'New Specs',\n",
       " 'VINCENT CHASE',\n",
       " 'ROZZETTA CRAFT',\n",
       " 'Fastrack',\n",
       " 'DEIXELS',\n",
       " 'VINCENT CHASE',\n",
       " 'SHAAH COLLECTIONS',\n",
       " 'PIRASO',\n",
       " 'PIRASO',\n",
       " 'povty',\n",
       " 'Lee Topper',\n",
       " 'kingsunglasses',\n",
       " 'Lee Topper',\n",
       " 'ROYAL SON',\n",
       " 'PHENOMENAL',\n",
       " 'SRPM',\n",
       " 'kingsunglasses',\n",
       " 'ROZZETTA CRAFT',\n",
       " 'GANSTA',\n",
       " 'kingsunglasses',\n",
       " 'SUNBEE',\n",
       " 'IZAAN MART',\n",
       " 'PIRASO',\n",
       " 'Singco India',\n",
       " 'ROYAL SON',\n",
       " 'AISLIN',\n",
       " 'kingsunglasses',\n",
       " 'SHAAH COLLECTIONS',\n",
       " 'Silver Kartz',\n",
       " 'ROYAL SON',\n",
       " 'Elligator',\n",
       " 'PIRASO',\n",
       " 'PIRASO',\n",
       " 'AISLIN',\n",
       " 'kingsunglasses',\n",
       " 'ROYAL SON',\n",
       " 'ROYAL SON',\n",
       " 'Singco India',\n",
       " 'Lee Topper',\n",
       " 'ROZZETTA CRAFT',\n",
       " 'New Specs',\n",
       " 'VINCENT CHASE',\n",
       " 'Fastrack',\n",
       " 'kingsunglasses',\n",
       " 'Elligator',\n",
       " 'VINCENT CHASE',\n",
       " 'New Specs',\n",
       " 'SRPM',\n",
       " 'NuVew',\n",
       " 'VILLAIN',\n",
       " 'hipe',\n",
       " 'Silver Kartz',\n",
       " 'ROZZETTA CRAFT',\n",
       " 'povty',\n",
       " 'kingsunglasses',\n",
       " 'kingsunglasses',\n",
       " 'SUNBEE',\n",
       " 'ROZZETTA CRAFT',\n",
       " 'PHENOMENAL',\n",
       " 'PIRASO',\n",
       " 'Lee Topper',\n",
       " 'ROZZETTA CRAFT',\n",
       " 'Fastrack',\n",
       " 'PIRASO',\n",
       " 'PHENOMENAL',\n",
       " 'ROYAL SON',\n",
       " 'ROYAL SON',\n",
       " 'hipe',\n",
       " 'Rich Club',\n",
       " 'IZAAN MART',\n",
       " 'PHENOMENAL',\n",
       " 'kingsunglasses',\n",
       " 'Elligator',\n",
       " 'AISLIN',\n",
       " 'Rich Club',\n",
       " 'ROZZETTA CRAFT',\n",
       " 'Rich Club',\n",
       " 'VINCENT CHASE',\n",
       " 'hipe',\n",
       " 'Singco India',\n",
       " 'ROZZETTA CRAFT',\n",
       " 'VINCENT CHASE',\n",
       " 'Singco India',\n",
       " 'Fastrack',\n",
       " 'Rich Club',\n",
       " 'povty',\n",
       " 'SUNBEE',\n",
       " 'Mi',\n",
       " 'Elligator',\n",
       " 'VILLAIN',\n",
       " 'Fastrack',\n",
       " 'Fastrack',\n",
       " 'Fastrack',\n",
       " 'ROYAL SON']"
      ]
     },
     "execution_count": 160,
     "metadata": {},
     "output_type": "execute_result"
    }
   ],
   "source": [
    "brand_names[:100]"
   ]
  },
  {
   "cell_type": "code",
   "execution_count": 165,
   "id": "0702545c",
   "metadata": {},
   "outputs": [],
   "source": [
    "product_desc=[]\n",
    "for i in page_url[:3]:\n",
    "    driver.get(i)\n",
    "    products=driver.find_elements_by_class_name('_2B099V')\n",
    "    for i in products:\n",
    "        product_desc.append(i.text)"
   ]
  },
  {
   "cell_type": "code",
   "execution_count": 166,
   "id": "d071a791",
   "metadata": {},
   "outputs": [
    {
     "data": {
      "text/plain": [
       "120"
      ]
     },
     "execution_count": 166,
     "metadata": {},
     "output_type": "execute_result"
    }
   ],
   "source": [
    "len(product_desc)"
   ]
  },
  {
   "cell_type": "code",
   "execution_count": 167,
   "id": "c54edf26",
   "metadata": {},
   "outputs": [
    {
     "data": {
      "text/plain": [
       "['Singco India\\nGradient, Toughened Glass Lens, UV Protection Retro Squ...\\n₹597₹2,99980% off\\nFree delivery\\nLowest Price in 15 days',\n",
       " 'VINCENT CHASE\\nby Lenskart Polarized, UV Protection Round Sunglasses (...\\n₹799₹2,50068% off\\nFree delivery',\n",
       " 'SRPM\\nUV Protection Wayfarer Sunglasses (50)\\n₹198₹1,29985% off\\nDeal of the Day',\n",
       " 'SUNBEE\\nUV Protection, Polarized Wayfarer Sunglasses (Free Size...\\n₹253₹1,29981% off',\n",
       " 'Elligator\\nUV Protection Round Sunglasses (54)\\n₹258₹2,49590% off\\nDeal of the Day',\n",
       " 'PIRASO\\nUV Protection Aviator Sunglasses (54)\\n₹229₹1,59986% off',\n",
       " 'New Specs\\nUV Protection Rectangular Sunglasses (Free Size)\\n₹232₹2,59991% off',\n",
       " 'VINCENT CHASE\\nby Lenskart Polarized, UV Protection Wayfarer Sunglasse...\\n₹799₹2,50068% off\\nFree delivery\\nLowest Price in 15 days',\n",
       " 'ROZZETTA CRAFT\\nPolarized, Night Vision, Riding Glasses Sports, Wrap-ar...\\n₹474₹1,99976% off\\nDeal of the Day',\n",
       " 'Fastrack\\nUV Protection Rectangular Sunglasses (Free Size)\\n₹679₹79915% off\\nFree delivery\\nBuy 2 items, save extra 5%',\n",
       " 'DEIXELS\\nUV Protection Aviator, Wayfarer Sunglasses (Free Size)\\n₹202₹1,19983% off\\nDeal of the Day',\n",
       " 'VILLAIN\\nOthers Wayfarer Sunglasses (Free Size)\\n₹522₹99948% off\\nFree delivery',\n",
       " 'SHAAH COLLECTIONS\\nUV Protection, Polarized, Mirrored Rectangular Sunglass...\\n₹165₹1,69990% off',\n",
       " 'PIRASO\\nUV Protection Wayfarer Sunglasses (55)\\n₹225₹1,59986% off',\n",
       " 'PIRASO\\nUV Protection Aviator Sunglasses (54)\\n₹225₹1,59986% off',\n",
       " 'povty\\nUV Protection Retro Square Sunglasses (Free Size)\\n₹299₹99970% off',\n",
       " 'Lee Topper\\nRiding Glasses Wrap-around Sunglasses (Free Size)\\n₹275₹2,49989% off',\n",
       " 'kingsunglasses\\nMirrored, UV Protection Wayfarer Sunglasses (Free Size)\\n₹239₹1,99988% off',\n",
       " 'Lee Topper\\nUV Protection Rectangular Sunglasses (Free Size)\\n₹199₹99980% off',\n",
       " 'ROYAL SON\\nPolarized, UV Protection Wrap-around Sunglasses (62)\\n₹759₹1,99962% off\\nFree delivery\\nDeal of the Day',\n",
       " 'PHENOMENAL\\nUV Protection Retro Square Sunglasses (53)\\n₹289₹99971% off',\n",
       " 'SRPM\\nUV Protection Wayfarer Sunglasses (53)\\n₹220₹99878% off\\nDeal of the Day',\n",
       " 'kingsunglasses\\nUV Protection, Riding Glasses, Mirrored Wayfarer Sungla...\\n₹184₹1,19985% off',\n",
       " 'ROZZETTA CRAFT\\nUV Protection, Gradient Retro Square Sunglasses (Free S...\\n₹307₹1,99985% off\\nLowest price in the year',\n",
       " 'GANSTA\\nUV Protection, Riding Glasses Wayfarer Sunglasses (53)\\n₹198₹1,79989% off\\nDeal of the Day',\n",
       " 'kingsunglasses\\nUV Protection Round Sunglasses (54)\\n₹186₹99981% off',\n",
       " 'SUNBEE\\nUV Protection, Polarized, Mirrored Round Sunglasses (Fr...\\n₹284₹1,69983% off',\n",
       " 'IZAAN MART\\nUV Protection Rectangular Sunglasses (55)\\n₹299₹1,99985% off',\n",
       " 'PIRASO\\nUV Protection Aviator Sunglasses (54)\\n₹225₹1,59986% off',\n",
       " 'Singco India\\nRiding Glasses, UV Protection, Others Aviator Sunglasse...\\n₹208₹1,49986% off\\nLowest Price in 15 days',\n",
       " 'ROYAL SON\\nMirrored Aviator Sunglasses (Free Size)\\n₹379₹1,49975% off\\nDeal of the Day',\n",
       " 'AISLIN\\nToughened Glass Lens, UV Protection Aviator, Wrap-aroun...\\n₹975₹3,69974% off\\nFree delivery\\nDeal of the Day',\n",
       " 'kingsunglasses\\nUV Protection Round Sunglasses (Free Size)\\n₹289₹1,59982% off',\n",
       " 'SHAAH COLLECTIONS\\nUV Protection, Polarized, Mirrored Rectangular Sunglass...\\n₹181₹99982% off',\n",
       " 'Silver Kartz\\nUV Protection Wayfarer Sunglasses (Free Size)\\n₹246₹1,49984% off\\nDeal of the Day',\n",
       " 'AISLIN\\nPolarized, UV Protection, Mirrored Aviator Sunglasses (...\\n₹945₹4,25078% off\\nFree delivery\\nDeal of the Day',\n",
       " 'Elligator\\nUV Protection Round Sunglasses (53)\\n₹189₹99881% off\\nDeal of the Day',\n",
       " 'PIRASO\\nUV Protection Wayfarer Sunglasses (32)\\n₹225₹1,59986% off',\n",
       " 'PIRASO\\nUV Protection Butterfly Sunglasses (65)\\n₹375₹2,59986% off',\n",
       " 'AISLIN\\nToughened Glass Lens, UV Protection Wayfarer, Rectangul...\\n₹998₹3,69973% off\\nFree delivery',\n",
       " 'SUNBEE\\nUV Protection, Polarized, Mirrored Retro Square Sunglas...\\n₹230₹1,29982% off',\n",
       " 'kingsunglasses\\nMirrored, UV Protection Wayfarer, Rectangular Sunglasse...\\n₹258₹1,99987% off',\n",
       " 'ROYAL SON\\nMirrored Aviator Sunglasses (55)\\n₹379₹1,49975% off\\nDeal of the Day',\n",
       " 'Singco India\\nGradient, Toughened Glass Lens, UV Protection Retro Squ...\\n₹597₹2,99980% off\\nFree delivery\\nLowest Price in 15 days',\n",
       " 'ROYAL SON\\nUV Protection Rectangular Sunglasses (58)\\n₹474₹1,49968% off\\nDeal of the Day',\n",
       " 'Lee Topper\\nRiding Glasses, Night Vision Wrap-around Sunglasses (Fr...\\n₹276₹2,49989% off',\n",
       " 'ROZZETTA CRAFT\\nUV Protection, Gradient Rectangular Sunglasses (Free Si...\\n₹379₹1,99981% off\\nDeal of the Day',\n",
       " 'VINCENT CHASE\\nby Lenskart Polarized, UV Protection Round Sunglasses (...\\n₹799₹2,50068% off\\nFree delivery',\n",
       " 'New Specs\\nMirrored, UV Protection, Riding Glasses, Others Round S...\\n₹263₹1,39981% off',\n",
       " 'New Specs\\nUV Protection Aviator Sunglasses (Free Size)\\n₹183₹1,59989% off',\n",
       " 'kingsunglasses\\nMirrored, UV Protection Aviator Sunglasses (56)\\n₹219₹1,29983% off',\n",
       " 'VINCENT CHASE\\nby Lenskart Polarized, UV Protection Wayfarer Sunglasse...\\n₹799₹2,50068% off\\nFree delivery\\nLowest Price in 15 days',\n",
       " 'Fastrack\\nPolarized Retro Square Sunglasses (Free Size)\\n₹639₹79920% off\\nFree delivery\\nBuy 2 items, save extra 5%',\n",
       " 'SRPM\\nOthers Wayfarer, Retro Square Sunglasses (50)\\n₹178₹99982% off\\nDeal of the Day',\n",
       " 'NuVew\\nUV Protection Sports Sunglasses (62)\\n₹327₹1,24574% off\\nDeal of the Day',\n",
       " 'povty\\nUV Protection Retro Square Sunglasses (Free Size)\\n₹299₹99970% off',\n",
       " 'Elligator\\nUV Protection Wayfarer Sunglasses (53)\\n₹176₹1,49788% off',\n",
       " 'Elligator\\nUV Protection Retro Square, Round Sunglasses (54)\\n₹311₹1,99984% off',\n",
       " 'Silver Kartz\\nUV Protection Aviator Sunglasses (88)\\n₹255₹1,19979% off\\nDeal of the Day',\n",
       " 'ROZZETTA CRAFT\\nUV Protection, UV Protection Retro Square Sunglasses (F...\\n₹231₹1,79987% off\\nDeal of the Day',\n",
       " 'ROZZETTA CRAFT\\nUV Protection, Gradient Round Sunglasses (Free Size)\\n₹342₹1,99983% off\\nDeal of the Day',\n",
       " 'hipe\\nUV Protection, Gradient, Mirrored, Riding Glasses Aviat...\\n₹198₹99980% off\\nDeal of the Day',\n",
       " 'kingsunglasses\\nUV Protection, Mirrored Aviator Sunglasses (Free Size)\\n₹239₹1,89987% off',\n",
       " 'ROZZETTA CRAFT\\nUV Protection, Gradient Retro Square Sunglasses (Free S...\\n₹307₹1,99985% off\\nLowest price in the year',\n",
       " 'kingsunglasses\\nMirrored, UV Protection Wayfarer Sunglasses (53)\\n₹258₹1,99987% off',\n",
       " 'SUNBEE\\nUV Protection, Polarized, Mirrored Wayfarer Sunglasses ...\\n₹253₹1,29981% off',\n",
       " 'PHENOMENAL\\nUV Protection Retro Square Sunglasses (Free Size)\\n₹328₹1,99984% off',\n",
       " 'ROYAL SON\\nPolarized, UV Protection Wrap-around Sunglasses (62)\\n₹759₹1,99962% off\\nFree delivery\\nDeal of the Day',\n",
       " 'ROYAL SON\\nMirrored Aviator Sunglasses (Free Size)\\n₹379₹1,49975% off\\nDeal of the Day',\n",
       " 'Lee Topper\\nUV Protection, Riding Glasses Retro Square, Spectacle ...\\n₹375₹1,29971% off',\n",
       " 'Fastrack\\nUV Protection Shield Sunglasses (Free Size)\\n₹721₹89920% off\\nFree delivery\\nDeal of the Day',\n",
       " 'IZAAN MART\\nUV Protection Rectangular Sunglasses (55)\\n₹299₹1,99985% off',\n",
       " 'PIRASO\\nUV Protection Aviator Sunglasses (58)\\n₹299₹2,59988% off',\n",
       " 'PHENOMENAL\\nUV Protection Clubmaster Sunglasses (Free Size)\\n₹307₹1,99885% off',\n",
       " 'PIRASO\\nMirrored Aviator Sunglasses (32)\\n₹199₹1,59988% off',\n",
       " 'AISLIN\\nToughened Glass Lens, UV Protection Aviator, Wrap-aroun...\\n₹975₹3,69974% off\\nFree delivery\\nDeal of the Day',\n",
       " 'agera\\nGradient Aviator Sunglasses (55)\\n₹224₹1,14981% off\\nDeal of the Day',\n",
       " 'ROYAL SON\\nUV Protection Retro Square Sunglasses (58)\\n₹474₹1,49968% off\\nDeal of the Day',\n",
       " 'PHENOMENAL\\nUV Protection, Mirrored Retro Square Sunglasses (53)\\n₹317₹1,99984% off',\n",
       " 'AISLIN\\nPolarized, UV Protection, Mirrored Aviator Sunglasses (...\\n₹945₹4,25078% off\\nFree delivery\\nDeal of the Day',\n",
       " 'Singco India\\nGradient, Toughened Glass Lens, UV Protection Retro Squ...\\n₹597₹2,99980% off\\nFree delivery\\nLowest Price in 15 days',\n",
       " 'VINCENT CHASE\\nby Lenskart Polarized, UV Protection Round Sunglasses (...\\n₹799₹2,50068% off\\nFree delivery',\n",
       " 'SRPM\\nUV Protection Wayfarer Sunglasses (50)\\n₹198₹1,29985% off\\nDeal of the Day',\n",
       " 'SUNBEE\\nUV Protection, Polarized Wayfarer Sunglasses (Free Size...\\n₹253₹1,29981% off',\n",
       " 'Elligator\\nUV Protection Round Sunglasses (54)\\n₹258₹2,49590% off\\nDeal of the Day',\n",
       " 'PIRASO\\nUV Protection Aviator Sunglasses (54)\\n₹229₹1,59986% off',\n",
       " 'New Specs\\nUV Protection Rectangular Sunglasses (Free Size)\\n₹232₹2,59991% off',\n",
       " 'VINCENT CHASE\\nby Lenskart Polarized, UV Protection Wayfarer Sunglasse...\\n₹799₹2,50068% off\\nFree delivery\\nLowest Price in 15 days',\n",
       " 'ROZZETTA CRAFT\\nPolarized, Night Vision, Riding Glasses Sports, Wrap-ar...\\n₹474₹1,99976% off\\nDeal of the Day',\n",
       " 'Fastrack\\nUV Protection Rectangular Sunglasses (Free Size)\\n₹679₹79915% off\\nFree delivery\\nBuy 2 items, save extra 5%',\n",
       " 'DEIXELS\\nUV Protection Aviator, Wayfarer Sunglasses (Free Size)\\n₹202₹1,19983% off\\nDeal of the Day',\n",
       " 'VILLAIN\\nOthers Wayfarer Sunglasses (Free Size)\\n₹522₹99948% off\\nFree delivery',\n",
       " 'SHAAH COLLECTIONS\\nUV Protection, Polarized, Mirrored Rectangular Sunglass...\\n₹165₹1,69990% off',\n",
       " 'PIRASO\\nUV Protection Wayfarer Sunglasses (55)\\n₹225₹1,59986% off',\n",
       " 'PIRASO\\nUV Protection Aviator Sunglasses (54)\\n₹225₹1,59986% off',\n",
       " 'povty\\nUV Protection Retro Square Sunglasses (Free Size)\\n₹299₹99970% off',\n",
       " 'Lee Topper\\nRiding Glasses Wrap-around Sunglasses (Free Size)\\n₹275₹2,49989% off',\n",
       " 'kingsunglasses\\nMirrored, UV Protection Wayfarer Sunglasses (Free Size)\\n₹239₹1,99988% off',\n",
       " 'Lee Topper\\nUV Protection Rectangular Sunglasses (Free Size)\\n₹199₹99980% off',\n",
       " 'ROYAL SON\\nPolarized, UV Protection Wrap-around Sunglasses (62)\\n₹759₹1,99962% off\\nFree delivery\\nDeal of the Day']"
      ]
     },
     "execution_count": 167,
     "metadata": {},
     "output_type": "execute_result"
    }
   ],
   "source": [
    "product_desc[:100]"
   ]
  },
  {
   "cell_type": "code",
   "execution_count": 174,
   "id": "0205e04c",
   "metadata": {},
   "outputs": [],
   "source": [
    "price_desc=[]\n",
    "for i in page_url[:3]:\n",
    "    driver.get(i)\n",
    "    prices=driver.find_elements_by_class_name(\"_30jeq3\")\n",
    "    for i in prices:\n",
    "        price_desc.append(i.text)"
   ]
  },
  {
   "cell_type": "code",
   "execution_count": 175,
   "id": "8f351b23",
   "metadata": {},
   "outputs": [
    {
     "data": {
      "text/plain": [
       "135"
      ]
     },
     "execution_count": 175,
     "metadata": {},
     "output_type": "execute_result"
    }
   ],
   "source": [
    "len(price_desc)"
   ]
  },
  {
   "cell_type": "code",
   "execution_count": 176,
   "id": "cfcc361b",
   "metadata": {
    "scrolled": true
   },
   "outputs": [
    {
     "data": {
      "text/plain": [
       "['₹597',\n",
       " '₹799',\n",
       " '₹198',\n",
       " '₹258',\n",
       " '₹229',\n",
       " '₹253',\n",
       " '₹474',\n",
       " '₹799',\n",
       " '₹232',\n",
       " '₹679',\n",
       " '₹202',\n",
       " '₹299',\n",
       " '₹165',\n",
       " '₹225',\n",
       " '₹225',\n",
       " '₹231',\n",
       " '₹239',\n",
       " '₹275',\n",
       " '₹220',\n",
       " '₹759',\n",
       " '₹198',\n",
       " '₹289',\n",
       " '₹184',\n",
       " '₹307',\n",
       " '₹284',\n",
       " '₹208',\n",
       " '₹225',\n",
       " '₹299',\n",
       " '₹186',\n",
       " '₹181',\n",
       " '₹289',\n",
       " '₹975',\n",
       " '₹199',\n",
       " '₹225',\n",
       " '₹375',\n",
       " '₹945',\n",
       " '₹189',\n",
       " '₹246',\n",
       " '₹639',\n",
       " '₹998',\n",
       " '₹307',\n",
       " '₹299',\n",
       " '₹299',\n",
       " '₹198',\n",
       " '₹375',\n",
       " '₹230',\n",
       " '₹258',\n",
       " '₹379',\n",
       " '₹597',\n",
       " '₹474',\n",
       " '₹276',\n",
       " '₹379',\n",
       " '₹980',\n",
       " '₹263',\n",
       " '₹183',\n",
       " '₹219',\n",
       " '₹799',\n",
       " '₹639',\n",
       " '₹178',\n",
       " '₹327',\n",
       " '₹799',\n",
       " '₹176',\n",
       " '₹311',\n",
       " '₹255',\n",
       " '₹522',\n",
       " '₹342',\n",
       " '₹198',\n",
       " '₹239',\n",
       " '₹299',\n",
       " '₹258',\n",
       " '₹253',\n",
       " '₹328',\n",
       " '₹307',\n",
       " '₹379',\n",
       " '₹375',\n",
       " '₹721',\n",
       " '₹759',\n",
       " '₹299',\n",
       " '₹307',\n",
       " '₹199',\n",
       " '₹299',\n",
       " '₹224',\n",
       " '₹474',\n",
       " '₹317',\n",
       " '₹975',\n",
       " '₹255',\n",
       " '₹375',\n",
       " '₹307',\n",
       " '₹639',\n",
       " '₹299',\n",
       " '₹293',\n",
       " '₹165',\n",
       " '₹253',\n",
       " '₹980',\n",
       " '₹179',\n",
       " '₹307',\n",
       " '₹597',\n",
       " '₹799',\n",
       " '₹258',\n",
       " '₹194']"
      ]
     },
     "execution_count": 176,
     "metadata": {},
     "output_type": "execute_result"
    }
   ],
   "source": [
    "price_desc[:100]"
   ]
  },
  {
   "cell_type": "markdown",
   "id": "cd8e3d6a",
   "metadata": {},
   "source": [
    "# ANSWER5"
   ]
  },
  {
   "cell_type": "code",
   "execution_count": 79,
   "id": "7c72b05b",
   "metadata": {},
   "outputs": [],
   "source": [
    "driver =webdriver.Chrome(r'C:/Users/Perfect Point/Desktop/chromedriver_win32/chromedriver.exe')"
   ]
  },
  {
   "cell_type": "code",
   "execution_count": null,
   "id": "00407312",
   "metadata": {},
   "outputs": [],
   "source": [
    "driver=webdriver.Chrome('chromedriver.exe')"
   ]
  },
  {
   "cell_type": "code",
   "execution_count": 80,
   "id": "b4c8bde8",
   "metadata": {},
   "outputs": [],
   "source": [
    "driver.get('https://www.flipkart.com/')"
   ]
  },
  {
   "cell_type": "code",
   "execution_count": 81,
   "id": "fe7ac5e7",
   "metadata": {},
   "outputs": [],
   "source": [
    "search_prod = driver.find_element_by_xpath(\"/html/body/div[1]/div/div[1]/div[1]/div[2]/div[2]/form/div/div/input\")\n",
    "search_prod.send_keys('iphone11')"
   ]
  },
  {
   "cell_type": "code",
   "execution_count": null,
   "id": "4ccfaf3f",
   "metadata": {},
   "outputs": [],
   "source": []
  },
  {
   "cell_type": "code",
   "execution_count": null,
   "id": "722d12ec",
   "metadata": {},
   "outputs": [],
   "source": []
  },
  {
   "cell_type": "code",
   "execution_count": 82,
   "id": "2333d38c",
   "metadata": {},
   "outputs": [],
   "source": [
    "search_icon = driver.find_element_by_xpath(\"//button[@class='L0Z3Pu']\")\n",
    "search_icon.click()"
   ]
  },
  {
   "cell_type": "code",
   "execution_count": 92,
   "id": "361cfe15",
   "metadata": {},
   "outputs": [],
   "source": [
    "page_url = [] # a list containg url's of every page\n",
    "url = driver.find_elements_by_xpath(\"//nav[@class='yFHi8N']//a\")\n",
    "for i in url:\n",
    "    page_url.append(i.get_attribute('href'))"
   ]
  },
  {
   "cell_type": "code",
   "execution_count": 94,
   "id": "43863b74",
   "metadata": {},
   "outputs": [
    {
     "data": {
      "text/plain": [
       "6"
      ]
     },
     "execution_count": 94,
     "metadata": {},
     "output_type": "execute_result"
    }
   ],
   "source": [
    "len(page_url)"
   ]
  },
  {
   "cell_type": "code",
   "execution_count": 95,
   "id": "b4721220",
   "metadata": {},
   "outputs": [
    {
     "data": {
      "text/plain": [
       "['https://www.flipkart.com/search?q=iphone11&otracker=search&otracker1=search&marketplace=FLIPKART&as-show=on&as=off&page=2',\n",
       " 'https://www.flipkart.com/search?q=iphone11&otracker=search&otracker1=search&marketplace=FLIPKART&as-show=on&as=off&page=1',\n",
       " 'https://www.flipkart.com/search?q=iphone11&otracker=search&otracker1=search&marketplace=FLIPKART&as-show=on&as=off&page=2',\n",
       " 'https://www.flipkart.com/search?q=iphone11&otracker=search&otracker1=search&marketplace=FLIPKART&as-show=on&as=off&page=3',\n",
       " 'https://www.flipkart.com/search?q=iphone11&otracker=search&otracker1=search&marketplace=FLIPKART&as-show=on&as=off&page=4',\n",
       " 'https://www.flipkart.com/search?q=iphone11&otracker=search&otracker1=search&marketplace=FLIPKART&as-show=on&as=off&page=4']"
      ]
     },
     "execution_count": 95,
     "metadata": {},
     "output_type": "execute_result"
    }
   ],
   "source": [
    "page_url[:6]"
   ]
  },
  {
   "cell_type": "code",
   "execution_count": null,
   "id": "90ef645b",
   "metadata": {},
   "outputs": [],
   "source": []
  },
  {
   "cell_type": "markdown",
   "id": "79817ef2",
   "metadata": {},
   "source": [
    "# RATING"
   ]
  },
  {
   "cell_type": "code",
   "execution_count": 104,
   "id": "aa3b2012",
   "metadata": {},
   "outputs": [],
   "source": [
    "rating=[]\n",
    "for i in page_url[:10]:\n",
    "    driver.get(i)\n",
    "    ratings=driver.find_elements_by_class_name(\"_3LWZlK _1BLPMq\")\n",
    "    for i in ratings:\n",
    "        rating.append(i.text)"
   ]
  },
  {
   "cell_type": "code",
   "execution_count": 105,
   "id": "75c00855",
   "metadata": {},
   "outputs": [
    {
     "name": "stdout",
     "output_type": "stream",
     "text": [
      "[]\n"
     ]
    }
   ],
   "source": [
    "print(rating)"
   ]
  },
  {
   "cell_type": "markdown",
   "id": "efcfeaf3",
   "metadata": {},
   "source": [
    "# REVIEW SUMMARY"
   ]
  },
  {
   "cell_type": "code",
   "execution_count": null,
   "id": "3e5e0486",
   "metadata": {},
   "outputs": [],
   "source": []
  },
  {
   "cell_type": "code",
   "execution_count": null,
   "id": "271fb119",
   "metadata": {},
   "outputs": [],
   "source": []
  },
  {
   "cell_type": "code",
   "execution_count": null,
   "id": "cc5d21c3",
   "metadata": {},
   "outputs": [],
   "source": []
  },
  {
   "cell_type": "markdown",
   "id": "21e4ce1f",
   "metadata": {},
   "source": [
    "# FULL REVIEW"
   ]
  },
  {
   "cell_type": "code",
   "execution_count": null,
   "id": "b3dfc223",
   "metadata": {},
   "outputs": [],
   "source": []
  },
  {
   "cell_type": "code",
   "execution_count": null,
   "id": "a7d0c73a",
   "metadata": {},
   "outputs": [],
   "source": []
  },
  {
   "cell_type": "code",
   "execution_count": null,
   "id": "84e6b05a",
   "metadata": {},
   "outputs": [],
   "source": []
  },
  {
   "cell_type": "code",
   "execution_count": null,
   "id": "23993c89",
   "metadata": {},
   "outputs": [],
   "source": []
  },
  {
   "cell_type": "markdown",
   "id": "eac90065",
   "metadata": {},
   "source": [
    "# ANSWER6"
   ]
  },
  {
   "cell_type": "code",
   "execution_count": 68,
   "id": "1a2184c9",
   "metadata": {},
   "outputs": [],
   "source": [
    "driver =webdriver.Chrome(r'C:/Users/Perfect Point/Desktop/chromedriver_win32/chromedriver.exe')"
   ]
  },
  {
   "cell_type": "code",
   "execution_count": null,
   "id": "71aaff2e",
   "metadata": {},
   "outputs": [],
   "source": [
    "driver=webdriver.Chrome('chromedriver.exe')"
   ]
  },
  {
   "cell_type": "code",
   "execution_count": 70,
   "id": "7241a90e",
   "metadata": {},
   "outputs": [],
   "source": [
    "driver.get('https://www.flipkart.com/')"
   ]
  },
  {
   "cell_type": "code",
   "execution_count": 71,
   "id": "18077c45",
   "metadata": {},
   "outputs": [],
   "source": [
    "search_prod = driver.find_element_by_xpath(\"/html/body/div[1]/div/div[1]/div[1]/div[2]/div[2]/form/div/div/input\")\n",
    "search_prod.send_keys('sneakers')\n",
    "search_icon = driver.find_element_by_xpath(\"//button[@class='L0Z3Pu']\")\n",
    "search_icon.click()"
   ]
  },
  {
   "cell_type": "code",
   "execution_count": null,
   "id": "5e16d568",
   "metadata": {},
   "outputs": [],
   "source": [
    "page_url = [] # a list containg url's of every page\n",
    "url = driver.find_elements_by_xpath(\"//nav[@class='yFHi8N']//a\")\n",
    "for i in url:\n",
    "    page_url.append(i.get_attribute('href'))"
   ]
  },
  {
   "cell_type": "code",
   "execution_count": 62,
   "id": "b73a008c",
   "metadata": {},
   "outputs": [
    {
     "data": {
      "text/plain": [
       "['https://www.flipkart.com/search?q=sneakers&otracker=search&otracker1=search&marketplace=FLIPKART&as-show=on&as=off&page=1',\n",
       " 'https://www.flipkart.com/search?q=sneakers&otracker=search&otracker1=search&marketplace=FLIPKART&as-show=on&as=off&page=2',\n",
       " 'https://www.flipkart.com/search?q=sneakers&otracker=search&otracker1=search&marketplace=FLIPKART&as-show=on&as=off&page=3',\n",
       " 'https://www.flipkart.com/search?q=sneakers&otracker=search&otracker1=search&marketplace=FLIPKART&as-show=on&as=off&page=4',\n",
       " 'https://www.flipkart.com/search?q=sneakers&otracker=search&otracker1=search&marketplace=FLIPKART&as-show=on&as=off&page=5',\n",
       " 'https://www.flipkart.com/search?q=sneakers&otracker=search&otracker1=search&marketplace=FLIPKART&as-show=on&as=off&page=6',\n",
       " 'https://www.flipkart.com/search?q=sneakers&otracker=search&otracker1=search&marketplace=FLIPKART&as-show=on&as=off&page=7',\n",
       " 'https://www.flipkart.com/search?q=sneakers&otracker=search&otracker1=search&marketplace=FLIPKART&as-show=on&as=off&page=8',\n",
       " 'https://www.flipkart.com/search?q=sneakers&otracker=search&otracker1=search&marketplace=FLIPKART&as-show=on&as=off&page=9',\n",
       " 'https://www.flipkart.com/search?q=sneakers&otracker=search&otracker1=search&marketplace=FLIPKART&as-show=on&as=off&page=10',\n",
       " 'https://www.flipkart.com/search?q=sneakers&otracker=search&otracker1=search&marketplace=FLIPKART&as-show=on&as=off&page=2']"
      ]
     },
     "execution_count": 62,
     "metadata": {},
     "output_type": "execute_result"
    }
   ],
   "source": [
    "page_url"
   ]
  },
  {
   "cell_type": "code",
   "execution_count": 63,
   "id": "06c0c933",
   "metadata": {},
   "outputs": [],
   "source": [
    "brand_names=[]\n",
    "for i in page_url[:3]:\n",
    "    driver.get(i)\n",
    "    brands=driver.find_elements_by_class_name('_2WkVRV')\n",
    "    for i in brands:\n",
    "        brand_names.append(i.text)"
   ]
  },
  {
   "cell_type": "code",
   "execution_count": 50,
   "id": "0bc2200b",
   "metadata": {},
   "outputs": [
    {
     "data": {
      "text/plain": [
       "120"
      ]
     },
     "execution_count": 50,
     "metadata": {},
     "output_type": "execute_result"
    }
   ],
   "source": [
    "len(brand_names)"
   ]
  },
  {
   "cell_type": "code",
   "execution_count": 51,
   "id": "d5f082b3",
   "metadata": {},
   "outputs": [
    {
     "data": {
      "text/plain": [
       "['DUNKASTON',\n",
       " 'World Wear Footwear',\n",
       " 'BRUTON',\n",
       " 'Chevit',\n",
       " 'KWIK FIT',\n",
       " 'BRUTON',\n",
       " 'corsac',\n",
       " 'World Wear Footwear',\n",
       " 'BRUTON',\n",
       " 'D-SNEAKERZ',\n",
       " 'Magnolia',\n",
       " 'BRUTON',\n",
       " 'Shoes Bank',\n",
       " 'URBANBOX',\n",
       " 'Labbin',\n",
       " 'Magnolia',\n",
       " 'BRUTON',\n",
       " 'Kraasa',\n",
       " 'COZY2FOOTWEAR',\n",
       " 'TR',\n",
       " 'Rzisbo',\n",
       " 'CLYMB',\n",
       " 'ASTEROID',\n",
       " 'Stefano Rads',\n",
       " 'Airland',\n",
       " 'SCATCHITE',\n",
       " 'Zsyto',\n",
       " 'RapidBox',\n",
       " 'luxury fashion',\n",
       " 'aadi',\n",
       " 'Echor',\n",
       " 'World Wear Footwear',\n",
       " 'Chevit',\n",
       " 'COZY2FOOTWEAR',\n",
       " 'India hub',\n",
       " 'Xtoon',\n",
       " 'Stinson',\n",
       " 'World Wear Footwear',\n",
       " 'Magnolia',\n",
       " 'India hub',\n",
       " 'COZY2FOOTWEAR',\n",
       " 'Kzaara',\n",
       " 'Kraasa',\n",
       " \"LEVI'S\",\n",
       " 'luxury fashion',\n",
       " 'Chevit',\n",
       " 'D-SNEAKERZ',\n",
       " 'Roadster',\n",
       " 'RANZAG',\n",
       " 'BRUTON',\n",
       " 'BIRDE',\n",
       " 'Roadster',\n",
       " 'Robbie jones',\n",
       " 'BRUTON',\n",
       " 'Chevit',\n",
       " 'Echor',\n",
       " 'CLYMB',\n",
       " 'Bretton',\n",
       " 'Elevarse',\n",
       " 'HIGHLANDER',\n",
       " 'Dizzler',\n",
       " 'Echor',\n",
       " 'LE GREEM',\n",
       " 'Echor',\n",
       " 'COZY2FOOTWEAR',\n",
       " 'ASIAN',\n",
       " 'Rzisbo',\n",
       " 'RapidBox',\n",
       " 'Ktiz',\n",
       " 'Robbie jones',\n",
       " 'WHITE WALKERS',\n",
       " 'Echor',\n",
       " 'Robbie jones',\n",
       " 'AMICO',\n",
       " 'Trendmode',\n",
       " 'RapidBox',\n",
       " 'Noztile',\n",
       " 'aadi',\n",
       " 'bluemaker',\n",
       " 'KWIK FIT',\n",
       " 'KNIGHT WALKERS',\n",
       " 'Numenzo',\n",
       " 'Brainer',\n",
       " \"LEVI'S\",\n",
       " 'BAUCHHAAR',\n",
       " 'Deals4you',\n",
       " 'Robbie jones',\n",
       " 'Bacan',\n",
       " 'luxury fashion',\n",
       " 'EMPTILE',\n",
       " 'Zorth',\n",
       " 'Bacan',\n",
       " 'T-ROCK',\n",
       " 'PUMA',\n",
       " 'Zorth',\n",
       " 'Roadster',\n",
       " 'RODDICK SHOES',\n",
       " 'ESSENCE',\n",
       " 'DUNKASTON',\n",
       " 'Roadster']"
      ]
     },
     "execution_count": 51,
     "metadata": {},
     "output_type": "execute_result"
    }
   ],
   "source": [
    "brand_names[:100]"
   ]
  },
  {
   "cell_type": "code",
   "execution_count": 53,
   "id": "8d1a6bd2",
   "metadata": {},
   "outputs": [],
   "source": [
    "product_desc=[]\n",
    "for i in page_url[:3]:\n",
    "    driver.get(i)\n",
    "    products=driver.find_elements_by_class_name('_2B099V')\n",
    "    for i in products:\n",
    "        product_desc.append(i.text)"
   ]
  },
  {
   "cell_type": "code",
   "execution_count": 54,
   "id": "3d060f5d",
   "metadata": {},
   "outputs": [
    {
     "data": {
      "text/plain": [
       "120"
      ]
     },
     "execution_count": 54,
     "metadata": {},
     "output_type": "execute_result"
    }
   ],
   "source": [
    "len(product_desc)"
   ]
  },
  {
   "cell_type": "code",
   "execution_count": 55,
   "id": "f7f2faf4",
   "metadata": {},
   "outputs": [
    {
     "data": {
      "text/plain": [
       "[\"LEVI'S\\nINDI EXCLUSIVE Sneakers For Men\\n₹1,119₹2,79960% off\\nFree delivery\",\n",
       " 'HIGHLANDER\\nSneakers For Men\\n₹995₹1,99050% off\\nFree delivery',\n",
       " 'DUNKASTON\\nSneakers For Men\\n₹343₹1,49977% off',\n",
       " 'World Wear Footwear\\nSneakers For Men\\n₹199₹49960% off',\n",
       " 'BRUTON\\nModern Trendy Sneakers Shoes Sneakers For Men\\n₹259₹1,29980% off\\nDeal of the Day',\n",
       " 'Chevit\\nSuper Stylish & Trendy Combo Pack of 02 Pairs Sneakers ...\\n₹649₹1,59859% off\\nFree delivery',\n",
       " 'KWIK FIT\\nKwik FIT casual sneaker shoes and partywear shoes Casua...\\n₹399₹1,99980% off',\n",
       " 'Roadster\\nMen White Solid Sneakers Sneakers For Men\\n₹1,684₹3,29948% off\\nFree delivery',\n",
       " 'BRUTON\\nSneaker Sneakers For Men\\n₹299₹1,29976% off\\nDeal of the Day',\n",
       " 'corsac\\nSTYLISH MENS BLACK AND WHITE SNEAKER Sneakers For Men\\n₹449₹1,49970% off',\n",
       " 'World Wear Footwear\\n5011-Latest Collection Stylish Casual Loafer Sneakers S...\\n₹199₹49960% off',\n",
       " 'Roadster\\nMen Blue Solid Sneakers Sneakers For Men\\n₹1,299₹2,79953% off\\nFree delivery',\n",
       " 'BRUTON\\nModern & Trendy Collection Combo Pack of 02 Shoes for M...\\n₹471₹2,49981% off\\nDeal of the Day',\n",
       " \"D-SNEAKERZ\\nCasual , Partywear Sneakers Shoes For Men's And Boys Wh...\\n₹299₹65954% off\",\n",
       " 'Magnolia\\nSneakers For Men\\n₹448₹99955% off\\nDeal of the Day',\n",
       " 'BRUTON\\nCombo Pack Of 4 Casual Shoes Loafer Shoes Sneakers For ...\\n₹499₹3,49985% off\\nDeal of the Day',\n",
       " 'BRUTON\\nLattest Sneakers Shoe Sneakers For Men\\n₹299₹1,29976% off\\nDeal of the Day',\n",
       " \"Shoes Bank\\nWhite Sneaker For Men's/Boy's Sneakers For Men\\n₹298₹99970% off\",\n",
       " 'URBANBOX\\nSneakers Sneakers For Men\\n₹198₹99980% off\\nDeal of the Day',\n",
       " \"Echor\\nEchor Men's Sneakers Fashion Lightweight Running Shoes ...\\n₹499₹1,49966% off\",\n",
       " 'Labbin\\nSneakers For Men\\n₹499₹99950% off',\n",
       " 'Magnolia\\nSneakers For Men\\n₹448₹99955% off\\nDeal of the Day',\n",
       " 'BRUTON\\nModern & Trendy Collection Combo Pack of 02 Shoes for M...\\n₹536₹2,49978% off\\nFree delivery\\nDeal of the Day',\n",
       " \"Echor\\nMen's casual shoes sports shoes black sneaker Sneakers ...\\n₹449₹1,49970% off\\nLowest price since launch\",\n",
       " 'Kraasa\\nSeries 7 Sneakers For Men\\n₹444₹99955% off\\nDeal of the Day',\n",
       " 'COZY2FOOTWEAR\\nComfortable Premium Stylish Unique Trendy Popular HEART...\\n₹499₹1,49966% off\\nFree delivery',\n",
       " 'TR\\nSneakers For Men\\n₹360₹99963% off',\n",
       " 'RapidBox\\nStylish & Trendy Sneakers For Men\\n₹620₹99937% off',\n",
       " 'Rzisbo\\nSneakers For Men\\n₹494₹99950% off\\nDeal of the Day',\n",
       " 'CLYMB\\nSneakers For Men\\n₹616₹1,49958% off\\nFree delivery\\nDeal of the Day',\n",
       " \"ASTEROID\\nOriginal Luxury Branded Fashionable Men's Casual Walkin...\\n₹474₹1,99976% off\",\n",
       " 'RapidBox\\nSneakers For Men\\n₹630₹99936% off',\n",
       " 'Stefano Rads\\nClassy Sneakers For Men\\n₹240₹69965% off',\n",
       " 'Airland\\nsneaker men red 1258 - 6 Sneakers For Men\\n₹198₹49960% off',\n",
       " 'SCATCHITE\\nSneakers For Men\\n₹398₹99960% off\\nDeal of the Day',\n",
       " \"Echor\\nMen's Sneakers Fashion Lightweight Running Shoes Tennis...\\n₹449₹99955% off\\nLowest price since launch\",\n",
       " 'Zsyto\\nSneakers For Men\\n₹311₹1,29976% off\\nBuy 2 items, save extra 5%',\n",
       " 'RapidBox\\nSneakers For Men\\n₹680₹99931% off',\n",
       " 'luxury fashion\\nSneakers For Men\\n₹489₹1,99975% off\\nBank Offer',\n",
       " 'KWIK FIT\\nKwik FIT casual sneaker shoes and partywear shoes Casua...\\n₹429₹1,99978% off',\n",
       " 'COZY2FOOTWEAR\\nComfortable Premium Stylish Unique Trendy Popular HEART...\\n₹499₹1,49966% off\\nFree delivery',\n",
       " 'Kzaara\\nSneakers For Men\\n₹259₹99974% off',\n",
       " 'Kraasa\\nShark-41 Sneakers For Men\\n₹444₹99955% off\\nDeal of the Day',\n",
       " \"LEVI'S\\nINDI EXCLUSIVE Sneakers For Men\\n₹1,119₹2,79960% off\\nFree delivery\",\n",
       " 'luxury fashion\\nLuxury Fashionable casual shoes Sneakers For Men\\n₹407₹1,29968% off\\nBuy 2 items, save extra 5%',\n",
       " 'Chevit\\nUnique & Perfect Collection Combo Pack of 02 Shoes for ...\\n₹499₹1,49866% off',\n",
       " \"D-SNEAKERZ\\nCasual , Partywear Sneakers Shoes For Men's And Boys Wh...\\n₹384₹99961% off\",\n",
       " 'Bacan\\nSneakers For Men\\n₹526₹99947% off\\nFree delivery',\n",
       " 'RANZAG\\nRunning Shoes Stylish Comfortable Shoes For Men Sneaker...\\n₹399₹99960% off\\nBank Offer',\n",
       " 'BRUTON\\nCombo Pack Of 2 Latest Stylish Casual Shoes for Men Lac...\\n₹530₹2,49978% off\\nFree delivery\\nDeal of the Day',\n",
       " 'BIRDE\\nSports Running Shoes Sneakers For Men\\n₹299₹49940% off',\n",
       " 'Bacan\\nSneakers For Men\\n₹526₹99947% off\\nFree delivery',\n",
       " 'Robbie jones\\nSneakers For Men\\n₹499₹99950% off',\n",
       " 'BRUTON\\nCombo Pack Of 4 Casual Shoes Loafer Shoes Sneakers For ...\\n₹499₹3,49985% off\\nDeal of the Day',\n",
       " 'Chevit\\nPerfect & Affordable Combo Pack of 02 Pairs Sneakers Ou...\\n₹549₹1,79869% off\\nFree delivery',\n",
       " 'Roadster\\nMen White Solid Sneakers Sneakers For Men\\n₹1,684₹3,29948% off\\nFree delivery',\n",
       " \"CLYMB\\nPerfect Sports Shoes for Men's Running ,Cycling & Trekk...\\n₹249₹99975% off\\nDeal of the Day\",\n",
       " 'Bretton\\nClassy Stylish Ayasa Sneakers Sneakers For Men\\n₹251₹1,99987% off',\n",
       " 'Elevarse\\nSneakers For Men\\n₹399₹99960% off',\n",
       " 'Roadster\\nMen Blue Solid Sneakers Sneakers For Men\\n₹1,299₹2,79953% off\\nFree delivery',\n",
       " 'Dizzler\\nSneakers For Men\\n₹495₹71931% off',\n",
       " 'Echor\\nSneakers For Men\\n₹499₹1,49966% off',\n",
       " 'LE GREEM\\nComfortable & Ultra Light Weight Sneaker Sneakers For M...\\n₹449₹99955% off',\n",
       " \"Echor\\nEchor Men's Sneakers Fashion Lightweight Running Shoes ...\\n₹499₹1,49966% off\",\n",
       " 'COZY2FOOTWEAR\\nComfortable Premium Stylish Unique Trendy Popular HEART...\\n₹499₹1,49966% off\\nFree delivery',\n",
       " 'ASIAN\\nSkypy-31 Walking Shoes,Training Shoes,Sneakers,Loafers,...\\n₹498₹79937% off',\n",
       " 'Rzisbo\\nSneakers For Men\\n₹539₹99946% off\\nFree delivery\\nDeal of the Day',\n",
       " 'HIGHLANDER\\nSneakers For Men\\n₹995₹1,99050% off\\nFree delivery',\n",
       " 'Ktiz\\nSneakers For Men\\n₹448₹99955% off',\n",
       " 'Robbie jones\\nCasual Sneakers White Shoes For Men Sneakers For Men\\n₹499₹99950% off',\n",
       " 'WHITE WALKERS\\nStylish & Trending Outdoor Walking Comfortable Sneakers...\\n₹599₹1,19850% off\\nFree delivery',\n",
       " \"Echor\\nMen's casual shoes sports shoes black sneaker Sneakers ...\\n₹449₹1,49970% off\\nLowest price since launch\",\n",
       " 'Robbie jones\\nSneakers For Men\\n₹499₹99950% off',\n",
       " 'AMICO\\nSneakers For Men\\n₹499₹1,49966% off',\n",
       " 'Trendmode\\nSneakers For Men\\n₹259₹69962% off',\n",
       " 'RapidBox\\nStylish & Trendy Sneakers For Men\\n₹620₹99937% off',\n",
       " 'Noztile\\nSneakers For Men\\n₹399₹1,99980% off',\n",
       " 'aadi\\nSneakers For Men\\n₹339₹99966% off',\n",
       " 'bluemaker\\ncasual for men Sneakers For Men\\n₹499₹99950% off',\n",
       " \"Echor\\nMen's Sneakers Fashion Lightweight Running Shoes Tennis...\\n₹499₹99950% off\",\n",
       " 'KNIGHT WALKERS\\nSneakers For Men\\n₹648₹1,49956% off\\nFree delivery\\nBank Offer',\n",
       " 'Numenzo\\n411 Casual Sneakers For Men\\n₹474₹1,99976% off',\n",
       " 'Brainer\\nSneakers For Men\\n₹499₹1,29961% off',\n",
       " 'HIGHLANDER\\nSneakers For Men\\n₹719₹1,19839% off\\nFree delivery',\n",
       " 'BAUCHHAAR\\nsports shoes for men | Latest Stylish Casual sneakers f...\\n₹399₹99960% off',\n",
       " 'Deals4you\\nSneakers For Men\\n₹399₹1,49973% off\\nDeal of the Day',\n",
       " 'Robbie jones\\nSneakers For Men\\n₹499₹99950% off',\n",
       " 'KWIK FIT\\nKwik FIT casual sneaker shoes and partywear shoes Casua...\\n₹429₹1,99978% off',\n",
       " 'luxury fashion\\nFashionable sneaker shoes Sneakers For Men\\n₹499₹1,99975% off\\nBank Offer',\n",
       " 'EMPTILE\\nall white heartbeat casual shoe Sneakers For Men\\n₹397₹99960% off',\n",
       " 'Zorth\\nSneakers For Men\\n₹447₹99955% off',\n",
       " 'HIGHLANDER\\nSneakers For Men\\n₹796₹1,99060% off\\nFree delivery',\n",
       " 'T-ROCK\\nStylish White Casual Sneakers shoes Men and Boys Sneake...\\n₹399₹99960% off',\n",
       " 'PUMA\\nBMW MMS Future Kart Cat Sneakers For Men\\n₹3,149₹6,99955% off\\nFree delivery',\n",
       " 'Zorth\\nNew Fashion Outdoor Trendy Lightweight Casual,Canvas St...\\n₹435₹99956% off',\n",
       " 'HIGHLANDER\\nSneakers For Men\\n₹719₹1,19839% off\\nFree delivery',\n",
       " 'RODDICK SHOES\\nFashion Outdoor Canvas Casual Light Weight Lace-up Even...\\n₹449₹99955% off',\n",
       " 'ESSENCE\\nSneakers For Men\\n₹399₹99960% off\\nDeal of the Day',\n",
       " 'DUNKASTON\\nSneakers For Men\\n₹399₹1,49973% off\\nLimited Time Deal',\n",
       " 'Extoes\\nModern Trendy Shoes Combo pack of 4 Sneakers For Men\\n₹849₹1,49743% off']"
      ]
     },
     "execution_count": 55,
     "metadata": {},
     "output_type": "execute_result"
    }
   ],
   "source": [
    "product_desc[:100]"
   ]
  },
  {
   "cell_type": "code",
   "execution_count": 64,
   "id": "242dea5f",
   "metadata": {},
   "outputs": [],
   "source": [
    "price_desc=[]\n",
    "for i in page_url[:3]:\n",
    "    driver.get(i)\n",
    "    prices=driver.find_elements_by_class_name(\"_30jeq3\")\n",
    "    for i in prices:\n",
    "        price_desc.append(i.text)"
   ]
  },
  {
   "cell_type": "code",
   "execution_count": 65,
   "id": "f26905ae",
   "metadata": {},
   "outputs": [
    {
     "data": {
      "text/plain": [
       "135"
      ]
     },
     "execution_count": 65,
     "metadata": {},
     "output_type": "execute_result"
    }
   ],
   "source": [
    "len(price_desc)"
   ]
  },
  {
   "cell_type": "code",
   "execution_count": 67,
   "id": "d34d5f21",
   "metadata": {},
   "outputs": [
    {
     "data": {
      "text/plain": [
       "['₹1,119',\n",
       " '₹995',\n",
       " '₹343',\n",
       " '₹199',\n",
       " '₹259',\n",
       " '₹649',\n",
       " '₹399',\n",
       " '₹1,684',\n",
       " '₹299',\n",
       " '₹449',\n",
       " '₹199',\n",
       " '₹1,299',\n",
       " '₹471',\n",
       " '₹299',\n",
       " '₹448',\n",
       " '₹499',\n",
       " '₹299',\n",
       " '₹298',\n",
       " '₹198',\n",
       " '₹499',\n",
       " '₹499',\n",
       " '₹448',\n",
       " '₹536',\n",
       " '₹449',\n",
       " '₹444',\n",
       " '₹499',\n",
       " '₹360',\n",
       " '₹620',\n",
       " '₹494',\n",
       " '₹616',\n",
       " '₹474',\n",
       " '₹630',\n",
       " '₹240',\n",
       " '₹198',\n",
       " '₹398',\n",
       " '₹449',\n",
       " '₹311',\n",
       " '₹680',\n",
       " '₹489',\n",
       " '₹429',\n",
       " '₹995',\n",
       " '₹398',\n",
       " '₹343',\n",
       " '₹198',\n",
       " '₹499',\n",
       " '₹499',\n",
       " '₹259',\n",
       " '₹444',\n",
       " '₹1,119',\n",
       " '₹407',\n",
       " '₹499',\n",
       " '₹384',\n",
       " '₹719',\n",
       " '₹399',\n",
       " '₹530',\n",
       " '₹299',\n",
       " '₹1,684',\n",
       " '₹499',\n",
       " '₹499',\n",
       " '₹549',\n",
       " '₹526',\n",
       " '₹249',\n",
       " '₹251',\n",
       " '₹399',\n",
       " '₹1,299',\n",
       " '₹495',\n",
       " '₹499',\n",
       " '₹449',\n",
       " '₹499',\n",
       " '₹499',\n",
       " '₹498',\n",
       " '₹539',\n",
       " '₹449',\n",
       " '₹448',\n",
       " '₹499',\n",
       " '₹599',\n",
       " '₹995',\n",
       " '₹499',\n",
       " '₹499',\n",
       " '₹259',\n",
       " '₹620',\n",
       " '₹399',\n",
       " '₹339',\n",
       " '₹499',\n",
       " '₹499',\n",
       " '₹995',\n",
       " '₹530',\n",
       " '₹549',\n",
       " '₹499',\n",
       " '₹339',\n",
       " '₹648',\n",
       " '₹474',\n",
       " '₹499',\n",
       " '₹1,119',\n",
       " '₹399',\n",
       " '₹399',\n",
       " '₹499',\n",
       " '₹1,299',\n",
       " '₹499',\n",
       " '₹397']"
      ]
     },
     "execution_count": 67,
     "metadata": {},
     "output_type": "execute_result"
    }
   ],
   "source": [
    "price_desc[:100]"
   ]
  },
  {
   "cell_type": "code",
   "execution_count": 72,
   "id": "be711902",
   "metadata": {},
   "outputs": [],
   "source": [
    "discount_desc=[]\n",
    "for i in page_url[:3]:\n",
    "    driver.get(i)\n",
    "    discount=driver.find_elements_by_class_name(\"_3Ay6Sb\")\n",
    "    for i in discount:\n",
    "        discount_desc.append(i.text)"
   ]
  },
  {
   "cell_type": "code",
   "execution_count": 73,
   "id": "aff12b4a",
   "metadata": {},
   "outputs": [
    {
     "data": {
      "text/plain": [
       "135"
      ]
     },
     "execution_count": 73,
     "metadata": {},
     "output_type": "execute_result"
    }
   ],
   "source": [
    "len(discount_desc)"
   ]
  },
  {
   "cell_type": "code",
   "execution_count": 75,
   "id": "5ee85378",
   "metadata": {},
   "outputs": [
    {
     "data": {
      "text/plain": [
       "['60% off',\n",
       " '50% off',\n",
       " '77% off',\n",
       " '60% off',\n",
       " '80% off',\n",
       " '59% off',\n",
       " '80% off',\n",
       " '47% off',\n",
       " '76% off',\n",
       " '70% off',\n",
       " '81% off',\n",
       " '85% off',\n",
       " '60% off',\n",
       " '54% off',\n",
       " '55% off',\n",
       " '66% off',\n",
       " '76% off',\n",
       " '70% off',\n",
       " '80% off',\n",
       " '70% off',\n",
       " '50% off',\n",
       " '55% off',\n",
       " '78% off',\n",
       " '37% off',\n",
       " '55% off',\n",
       " '66% off',\n",
       " '63% off',\n",
       " '36% off',\n",
       " '50% off',\n",
       " '76% off',\n",
       " '65% off',\n",
       " '55% off',\n",
       " '60% off',\n",
       " '58% off',\n",
       " '60% off',\n",
       " '78% off',\n",
       " '31% off',\n",
       " '76% off',\n",
       " '75% off',\n",
       " '39% off',\n",
       " '50% off',\n",
       " '60% off',\n",
       " '77% off',\n",
       " '60% off',\n",
       " '85% off',\n",
       " '65% off',\n",
       " '74% off',\n",
       " '55% off',\n",
       " '60% off',\n",
       " '68% off',\n",
       " '66% off',\n",
       " '61% off',\n",
       " '47% off',\n",
       " '60% off',\n",
       " '78% off',\n",
       " '40% off',\n",
       " '66% off',\n",
       " '50% off',\n",
       " '85% off',\n",
       " '69% off',\n",
       " '50% off',\n",
       " '75% off',\n",
       " '87% off',\n",
       " '60% off',\n",
       " '70% off',\n",
       " '31% off',\n",
       " '66% off',\n",
       " '55% off',\n",
       " '37% off',\n",
       " '55% off',\n",
       " '46% off',\n",
       " '37% off',\n",
       " '50% off',\n",
       " '80% off',\n",
       " '50% off',\n",
       " '50% off',\n",
       " '36% off',\n",
       " '20% off',\n",
       " '50% off',\n",
       " '66% off',\n",
       " '78% off',\n",
       " '62% off',\n",
       " '50% off',\n",
       " '66% off',\n",
       " '55% off',\n",
       " '50% off',\n",
       " '78% off',\n",
       " '69% off',\n",
       " '85% off',\n",
       " '66% off',\n",
       " '56% off',\n",
       " '61% off',\n",
       " '76% off',\n",
       " '60% off',\n",
       " '50% off',\n",
       " '60% off',\n",
       " '73% off',\n",
       " '47% off',\n",
       " '75% off',\n",
       " '55% off']"
      ]
     },
     "execution_count": 75,
     "metadata": {},
     "output_type": "execute_result"
    }
   ],
   "source": [
    "discount_desc[:100]"
   ]
  },
  {
   "cell_type": "markdown",
   "id": "f0211e4a",
   "metadata": {},
   "source": [
    "# ANSWER7"
   ]
  },
  {
   "cell_type": "code",
   "execution_count": 80,
   "id": "a0d5189a",
   "metadata": {},
   "outputs": [],
   "source": [
    "driver =webdriver.Chrome(r'C:/Users/Perfect Point/Desktop/chromedriver_win32/chromedriver.exe')"
   ]
  },
  {
   "cell_type": "code",
   "execution_count": null,
   "id": "1e945e4b",
   "metadata": {},
   "outputs": [],
   "source": [
    "driver=webdriver.Chrome('chromedriver.exe')"
   ]
  },
  {
   "cell_type": "code",
   "execution_count": 81,
   "id": "4857ed39",
   "metadata": {},
   "outputs": [],
   "source": [
    "driver.get('https://www.myntra.com/shoes ')"
   ]
  },
  {
   "cell_type": "code",
   "execution_count": 82,
   "id": "6890b0d8",
   "metadata": {},
   "outputs": [],
   "source": [
    "search_prod = driver.find_element_by_xpath(\"/html/body/div[1]/div/div/header/div[2]/div[3]/input\")\n",
    "search_prod.send_keys('shoes')\n"
   ]
  },
  {
   "cell_type": "code",
   "execution_count": 83,
   "id": "8321ad47",
   "metadata": {},
   "outputs": [],
   "source": [
    "search_icon = driver.find_element_by_xpath('//a[@class=\"desktop-submit\"]')\n",
    "search_icon.click()"
   ]
  },
  {
   "cell_type": "code",
   "execution_count": 84,
   "id": "fcbec82c",
   "metadata": {},
   "outputs": [],
   "source": [
    "page_url = [] # a list containg url's of every page\n",
    "url = driver.find_elements_by_xpath(\"//ul[@class='pagination-container']//li\")\n",
    "for i in url:\n",
    "    page_url.append(i.text)"
   ]
  },
  {
   "cell_type": "code",
   "execution_count": 85,
   "id": "9deaa1b4",
   "metadata": {},
   "outputs": [
    {
     "data": {
      "text/plain": [
       "['Page 1 of 1485', '1', '2', '3', '4', '5', '6', '7', '8', '9', '10', 'Next']"
      ]
     },
     "execution_count": 85,
     "metadata": {},
     "output_type": "execute_result"
    }
   ],
   "source": [
    "page_url"
   ]
  },
  {
   "cell_type": "code",
   "execution_count": 88,
   "id": "56ad68af",
   "metadata": {},
   "outputs": [
    {
     "ename": "InvalidArgumentException",
     "evalue": "Message: invalid argument\n  (Session info: chrome=99.0.4844.74)\nStacktrace:\nBacktrace:\n\tOrdinal0 [0x00A79943+2595139]\n\tOrdinal0 [0x00A0C9F1+2148849]\n\tOrdinal0 [0x009043F0+1065968]\n\tOrdinal0 [0x008F6159+1007961]\n\tOrdinal0 [0x008F4CDD+1002717]\n\tOrdinal0 [0x008F4FAD+1003437]\n\tOrdinal0 [0x00905C4A+1072202]\n\tOrdinal0 [0x0095C19D+1425821]\n\tOrdinal0 [0x0094B9EC+1358316]\n\tOrdinal0 [0x0095BAF2+1424114]\n\tOrdinal0 [0x0094B806+1357830]\n\tOrdinal0 [0x00926086+1204358]\n\tOrdinal0 [0x00926F96+1208214]\n\tGetHandleVerifier [0x00C1B232+1658114]\n\tGetHandleVerifier [0x00CD312C+2411516]\n\tGetHandleVerifier [0x00B0F261+560433]\n\tGetHandleVerifier [0x00B0E366+556598]\n\tOrdinal0 [0x00A1286B+2173035]\n\tOrdinal0 [0x00A175F8+2192888]\n\tOrdinal0 [0x00A176E5+2193125]\n\tOrdinal0 [0x00A211FC+2232828]\n\tBaseThreadInitThunk [0x773A6A14+36]\n\tRtlInitializeExceptionChain [0x776DA9FF+143]\n\tRtlInitializeExceptionChain [0x776DA9CA+90]\n",
     "output_type": "error",
     "traceback": [
      "\u001b[1;31m---------------------------------------------------------------------------\u001b[0m",
      "\u001b[1;31mInvalidArgumentException\u001b[0m                  Traceback (most recent call last)",
      "\u001b[1;32m<ipython-input-88-9b504d863e75>\u001b[0m in \u001b[0;36m<module>\u001b[1;34m\u001b[0m\n\u001b[0;32m      1\u001b[0m \u001b[0mprice_desc\u001b[0m\u001b[1;33m=\u001b[0m\u001b[1;33m[\u001b[0m\u001b[1;33m]\u001b[0m\u001b[1;33m\u001b[0m\u001b[1;33m\u001b[0m\u001b[0m\n\u001b[0;32m      2\u001b[0m \u001b[1;32mfor\u001b[0m \u001b[0mi\u001b[0m \u001b[1;32min\u001b[0m \u001b[0mpage_url\u001b[0m\u001b[1;33m[\u001b[0m\u001b[1;33m:\u001b[0m\u001b[1;36m3\u001b[0m\u001b[1;33m]\u001b[0m\u001b[1;33m:\u001b[0m\u001b[1;33m\u001b[0m\u001b[1;33m\u001b[0m\u001b[0m\n\u001b[1;32m----> 3\u001b[1;33m     \u001b[0mdriver\u001b[0m\u001b[1;33m.\u001b[0m\u001b[0mget\u001b[0m\u001b[1;33m(\u001b[0m\u001b[0mi\u001b[0m\u001b[1;33m)\u001b[0m\u001b[1;33m\u001b[0m\u001b[1;33m\u001b[0m\u001b[0m\n\u001b[0m\u001b[0;32m      4\u001b[0m     \u001b[0mprices\u001b[0m\u001b[1;33m=\u001b[0m\u001b[0mdriver\u001b[0m\u001b[1;33m.\u001b[0m\u001b[0mfind_elements_by_class_name\u001b[0m\u001b[1;33m(\u001b[0m\u001b[1;34m\"_product-price\"\u001b[0m\u001b[1;33m)\u001b[0m\u001b[1;33m\u001b[0m\u001b[1;33m\u001b[0m\u001b[0m\n\u001b[0;32m      5\u001b[0m     \u001b[1;32mfor\u001b[0m \u001b[0mi\u001b[0m \u001b[1;32min\u001b[0m \u001b[0mprices\u001b[0m\u001b[1;33m:\u001b[0m\u001b[1;33m\u001b[0m\u001b[1;33m\u001b[0m\u001b[0m\n",
      "\u001b[1;32mC:\\ProgramData\\Anaconda3\\lib\\site-packages\\selenium\\webdriver\\remote\\webdriver.py\u001b[0m in \u001b[0;36mget\u001b[1;34m(self, url)\u001b[0m\n\u001b[0;32m    435\u001b[0m         \u001b[0mLoads\u001b[0m \u001b[0ma\u001b[0m \u001b[0mweb\u001b[0m \u001b[0mpage\u001b[0m \u001b[1;32min\u001b[0m \u001b[0mthe\u001b[0m \u001b[0mcurrent\u001b[0m \u001b[0mbrowser\u001b[0m \u001b[0msession\u001b[0m\u001b[1;33m.\u001b[0m\u001b[1;33m\u001b[0m\u001b[1;33m\u001b[0m\u001b[0m\n\u001b[0;32m    436\u001b[0m         \"\"\"\n\u001b[1;32m--> 437\u001b[1;33m         \u001b[0mself\u001b[0m\u001b[1;33m.\u001b[0m\u001b[0mexecute\u001b[0m\u001b[1;33m(\u001b[0m\u001b[0mCommand\u001b[0m\u001b[1;33m.\u001b[0m\u001b[0mGET\u001b[0m\u001b[1;33m,\u001b[0m \u001b[1;33m{\u001b[0m\u001b[1;34m'url'\u001b[0m\u001b[1;33m:\u001b[0m \u001b[0murl\u001b[0m\u001b[1;33m}\u001b[0m\u001b[1;33m)\u001b[0m\u001b[1;33m\u001b[0m\u001b[1;33m\u001b[0m\u001b[0m\n\u001b[0m\u001b[0;32m    438\u001b[0m \u001b[1;33m\u001b[0m\u001b[0m\n\u001b[0;32m    439\u001b[0m     \u001b[1;33m@\u001b[0m\u001b[0mproperty\u001b[0m\u001b[1;33m\u001b[0m\u001b[1;33m\u001b[0m\u001b[0m\n",
      "\u001b[1;32mC:\\ProgramData\\Anaconda3\\lib\\site-packages\\selenium\\webdriver\\remote\\webdriver.py\u001b[0m in \u001b[0;36mexecute\u001b[1;34m(self, driver_command, params)\u001b[0m\n\u001b[0;32m    423\u001b[0m         \u001b[0mresponse\u001b[0m \u001b[1;33m=\u001b[0m \u001b[0mself\u001b[0m\u001b[1;33m.\u001b[0m\u001b[0mcommand_executor\u001b[0m\u001b[1;33m.\u001b[0m\u001b[0mexecute\u001b[0m\u001b[1;33m(\u001b[0m\u001b[0mdriver_command\u001b[0m\u001b[1;33m,\u001b[0m \u001b[0mparams\u001b[0m\u001b[1;33m)\u001b[0m\u001b[1;33m\u001b[0m\u001b[1;33m\u001b[0m\u001b[0m\n\u001b[0;32m    424\u001b[0m         \u001b[1;32mif\u001b[0m \u001b[0mresponse\u001b[0m\u001b[1;33m:\u001b[0m\u001b[1;33m\u001b[0m\u001b[1;33m\u001b[0m\u001b[0m\n\u001b[1;32m--> 425\u001b[1;33m             \u001b[0mself\u001b[0m\u001b[1;33m.\u001b[0m\u001b[0merror_handler\u001b[0m\u001b[1;33m.\u001b[0m\u001b[0mcheck_response\u001b[0m\u001b[1;33m(\u001b[0m\u001b[0mresponse\u001b[0m\u001b[1;33m)\u001b[0m\u001b[1;33m\u001b[0m\u001b[1;33m\u001b[0m\u001b[0m\n\u001b[0m\u001b[0;32m    426\u001b[0m             response['value'] = self._unwrap_value(\n\u001b[0;32m    427\u001b[0m                 response.get('value', None))\n",
      "\u001b[1;32mC:\\ProgramData\\Anaconda3\\lib\\site-packages\\selenium\\webdriver\\remote\\errorhandler.py\u001b[0m in \u001b[0;36mcheck_response\u001b[1;34m(self, response)\u001b[0m\n\u001b[0;32m    245\u001b[0m                 \u001b[0malert_text\u001b[0m \u001b[1;33m=\u001b[0m \u001b[0mvalue\u001b[0m\u001b[1;33m[\u001b[0m\u001b[1;34m'alert'\u001b[0m\u001b[1;33m]\u001b[0m\u001b[1;33m.\u001b[0m\u001b[0mget\u001b[0m\u001b[1;33m(\u001b[0m\u001b[1;34m'text'\u001b[0m\u001b[1;33m)\u001b[0m\u001b[1;33m\u001b[0m\u001b[1;33m\u001b[0m\u001b[0m\n\u001b[0;32m    246\u001b[0m             \u001b[1;32mraise\u001b[0m \u001b[0mexception_class\u001b[0m\u001b[1;33m(\u001b[0m\u001b[0mmessage\u001b[0m\u001b[1;33m,\u001b[0m \u001b[0mscreen\u001b[0m\u001b[1;33m,\u001b[0m \u001b[0mstacktrace\u001b[0m\u001b[1;33m,\u001b[0m \u001b[0malert_text\u001b[0m\u001b[1;33m)\u001b[0m  \u001b[1;31m# type: ignore[call-arg]  # mypy is not smart enough here\u001b[0m\u001b[1;33m\u001b[0m\u001b[1;33m\u001b[0m\u001b[0m\n\u001b[1;32m--> 247\u001b[1;33m         \u001b[1;32mraise\u001b[0m \u001b[0mexception_class\u001b[0m\u001b[1;33m(\u001b[0m\u001b[0mmessage\u001b[0m\u001b[1;33m,\u001b[0m \u001b[0mscreen\u001b[0m\u001b[1;33m,\u001b[0m \u001b[0mstacktrace\u001b[0m\u001b[1;33m)\u001b[0m\u001b[1;33m\u001b[0m\u001b[1;33m\u001b[0m\u001b[0m\n\u001b[0m\u001b[0;32m    248\u001b[0m \u001b[1;33m\u001b[0m\u001b[0m\n\u001b[0;32m    249\u001b[0m     \u001b[1;32mdef\u001b[0m \u001b[0m_value_or_default\u001b[0m\u001b[1;33m(\u001b[0m\u001b[0mself\u001b[0m\u001b[1;33m,\u001b[0m \u001b[0mobj\u001b[0m\u001b[1;33m:\u001b[0m \u001b[0mMapping\u001b[0m\u001b[1;33m[\u001b[0m\u001b[0m_KT\u001b[0m\u001b[1;33m,\u001b[0m \u001b[0m_VT\u001b[0m\u001b[1;33m]\u001b[0m\u001b[1;33m,\u001b[0m \u001b[0mkey\u001b[0m\u001b[1;33m:\u001b[0m \u001b[0m_KT\u001b[0m\u001b[1;33m,\u001b[0m \u001b[0mdefault\u001b[0m\u001b[1;33m:\u001b[0m \u001b[0m_VT\u001b[0m\u001b[1;33m)\u001b[0m \u001b[1;33m->\u001b[0m \u001b[0m_VT\u001b[0m\u001b[1;33m:\u001b[0m\u001b[1;33m\u001b[0m\u001b[1;33m\u001b[0m\u001b[0m\n",
      "\u001b[1;31mInvalidArgumentException\u001b[0m: Message: invalid argument\n  (Session info: chrome=99.0.4844.74)\nStacktrace:\nBacktrace:\n\tOrdinal0 [0x00A79943+2595139]\n\tOrdinal0 [0x00A0C9F1+2148849]\n\tOrdinal0 [0x009043F0+1065968]\n\tOrdinal0 [0x008F6159+1007961]\n\tOrdinal0 [0x008F4CDD+1002717]\n\tOrdinal0 [0x008F4FAD+1003437]\n\tOrdinal0 [0x00905C4A+1072202]\n\tOrdinal0 [0x0095C19D+1425821]\n\tOrdinal0 [0x0094B9EC+1358316]\n\tOrdinal0 [0x0095BAF2+1424114]\n\tOrdinal0 [0x0094B806+1357830]\n\tOrdinal0 [0x00926086+1204358]\n\tOrdinal0 [0x00926F96+1208214]\n\tGetHandleVerifier [0x00C1B232+1658114]\n\tGetHandleVerifier [0x00CD312C+2411516]\n\tGetHandleVerifier [0x00B0F261+560433]\n\tGetHandleVerifier [0x00B0E366+556598]\n\tOrdinal0 [0x00A1286B+2173035]\n\tOrdinal0 [0x00A175F8+2192888]\n\tOrdinal0 [0x00A176E5+2193125]\n\tOrdinal0 [0x00A211FC+2232828]\n\tBaseThreadInitThunk [0x773A6A14+36]\n\tRtlInitializeExceptionChain [0x776DA9FF+143]\n\tRtlInitializeExceptionChain [0x776DA9CA+90]\n"
     ]
    }
   ],
   "source": [
    "price_desc=[]\n",
    "for i in page_url[:3]:\n",
    "    driver.get(i)\n",
    "    prices=driver.find_elements_by_class_name(\"_product-price\")\n",
    "    for i in prices:\n",
    "        price_desc.append(i.text)"
   ]
  },
  {
   "cell_type": "code",
   "execution_count": null,
   "id": "729305db",
   "metadata": {},
   "outputs": [],
   "source": [
    "len(price_desc)"
   ]
  },
  {
   "cell_type": "code",
   "execution_count": null,
   "id": "a4c75ab8",
   "metadata": {},
   "outputs": [],
   "source": [
    "price_desc[:100]"
   ]
  },
  {
   "cell_type": "markdown",
   "id": "a1179c66",
   "metadata": {},
   "source": [
    "# ANSWER8"
   ]
  },
  {
   "cell_type": "code",
   "execution_count": 19,
   "id": "eae4f10a",
   "metadata": {},
   "outputs": [],
   "source": [
    "driver =webdriver.Chrome(r'C:/Users/Perfect Point/Desktop/chromedriver_win32/chromedriver.exe')"
   ]
  },
  {
   "cell_type": "code",
   "execution_count": null,
   "id": "3511144c",
   "metadata": {},
   "outputs": [],
   "source": [
    "driver=webdriver.Chrome('chromedriver.exe')"
   ]
  },
  {
   "cell_type": "code",
   "execution_count": 20,
   "id": "ca6aab55",
   "metadata": {},
   "outputs": [],
   "source": [
    "driver.get('https://www.amazon.in/')"
   ]
  },
  {
   "cell_type": "code",
   "execution_count": 21,
   "id": "f4384902",
   "metadata": {},
   "outputs": [],
   "source": [
    "search_prod = driver.find_element_by_xpath(\"/html/body/div[1]/header/div/div[1]/div[2]/div/form/div[2]/div[1]/input\")\n",
    "search_prod.send_keys('laptop')"
   ]
  },
  {
   "cell_type": "code",
   "execution_count": null,
   "id": "596ffc9f",
   "metadata": {},
   "outputs": [],
   "source": []
  },
  {
   "cell_type": "code",
   "execution_count": null,
   "id": "d5a4dfe9",
   "metadata": {},
   "outputs": [],
   "source": []
  },
  {
   "cell_type": "markdown",
   "id": "11dde777",
   "metadata": {},
   "source": [
    "# ANSWER9"
   ]
  },
  {
   "cell_type": "code",
   "execution_count": 25,
   "id": "41099834",
   "metadata": {},
   "outputs": [],
   "source": [
    "driver =webdriver.Chrome(r'C:/Users/Perfect Point/Desktop/chromedriver_win32/chromedriver.exe')"
   ]
  },
  {
   "cell_type": "code",
   "execution_count": null,
   "id": "6fa83507",
   "metadata": {},
   "outputs": [],
   "source": [
    "driver=webdriver.Chrome('chromedriver.exe')"
   ]
  },
  {
   "cell_type": "code",
   "execution_count": 26,
   "id": "7f9b22e9",
   "metadata": {},
   "outputs": [],
   "source": [
    "url='https://www.ambitionbox.com/'\n",
    "driver.get(url)"
   ]
  },
  {
   "cell_type": "code",
   "execution_count": 27,
   "id": "b7275c47",
   "metadata": {},
   "outputs": [
    {
     "data": {
      "text/plain": [
       "<selenium.webdriver.remote.webelement.WebElement (session=\"7388d21d72f6b0f09383bc8b8ad2558a\", element=\"629407c9-68dd-47db-8821-5a35c0084f79\")>"
      ]
     },
     "execution_count": 27,
     "metadata": {},
     "output_type": "execute_result"
    }
   ],
   "source": [
    "search_job=driver.find_element_by_class_name(\"twitter-typeahead\")\n",
    "search_job\n"
   ]
  },
  {
   "cell_type": "code",
   "execution_count": null,
   "id": "4ae362ea",
   "metadata": {},
   "outputs": [],
   "source": [
    "search_button=driver.find_element_by_xpath(\"/html/body/div/div[2]/div[3]/div/div/div[6]\")\n",
    "search_button"
   ]
  },
  {
   "cell_type": "code",
   "execution_count": null,
   "id": "da096dfa",
   "metadata": {},
   "outputs": [],
   "source": [
    "search_button.click()"
   ]
  },
  {
   "cell_type": "code",
   "execution_count": null,
   "id": "4c5742a3",
   "metadata": {},
   "outputs": [],
   "source": [
    "salary_check=driver.find_element_by_xpath(\"/html/body/div[1]/div[3]/div[2]/section[1]/div[2]/div[4]/div[2]/div[1]/label/p/span[1]\")"
   ]
  },
  {
   "cell_type": "code",
   "execution_count": null,
   "id": "c912b640",
   "metadata": {},
   "outputs": [],
   "source": [
    "salary_check.click()"
   ]
  },
  {
   "cell_type": "code",
   "execution_count": null,
   "id": "18beb005",
   "metadata": {},
   "outputs": [],
   "source": [
    "company_tags=driver.find_elements_by_xpath('//a[@class=\"subTitle ellipsis fleft\"]')\n",
    "len(company_tags)\n",
    "company_tags[0:10]"
   ]
  },
  {
   "cell_type": "code",
   "execution_count": null,
   "id": "62310845",
   "metadata": {},
   "outputs": [],
   "source": [
    "company_names=[]\n",
    "for i in company_tags:\n",
    "    company_names.append(i.text)\n",
    "company_names[0:10]"
   ]
  }
 ],
 "metadata": {
  "kernelspec": {
   "display_name": "Python 3",
   "language": "python",
   "name": "python3"
  },
  "language_info": {
   "codemirror_mode": {
    "name": "ipython",
    "version": 3
   },
   "file_extension": ".py",
   "mimetype": "text/x-python",
   "name": "python",
   "nbconvert_exporter": "python",
   "pygments_lexer": "ipython3",
   "version": "3.8.8"
  }
 },
 "nbformat": 4,
 "nbformat_minor": 5
}
