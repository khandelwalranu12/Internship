{
 "cells": [
  {
   "cell_type": "code",
   "execution_count": null,
   "id": "26670469",
   "metadata": {},
   "outputs": [],
   "source": [
    "answer1.(A)=%"
   ]
  },
  {
   "cell_type": "code",
   "execution_count": null,
   "id": "9e05b3da",
   "metadata": {},
   "outputs": [],
   "source": [
    "answer2.(B)=0"
   ]
  },
  {
   "cell_type": "code",
   "execution_count": null,
   "id": "a76381d7",
   "metadata": {},
   "outputs": [],
   "source": [
    "answer3.(A)=36"
   ]
  },
  {
   "cell_type": "code",
   "execution_count": null,
   "id": "7cebc054",
   "metadata": {},
   "outputs": [],
   "source": [
    "answer4.(B)=True\n"
   ]
  },
  {
   "cell_type": "code",
   "execution_count": null,
   "id": "dbcd3a60",
   "metadata": {},
   "outputs": [],
   "source": [
    "answer5.(B)=4"
   ]
  },
  {
   "cell_type": "code",
   "execution_count": null,
   "id": "4c72970c",
   "metadata": {},
   "outputs": [],
   "source": [
    "answer6.(C)=the finally block will be executed no matter if the try block raises an error or not."
   ]
  },
  {
   "cell_type": "code",
   "execution_count": null,
   "id": "089c935a",
   "metadata": {},
   "outputs": [],
   "source": [
    "answer7.(A)=raise an exception"
   ]
  },
  {
   "cell_type": "code",
   "execution_count": null,
   "id": "f3d3dd5f",
   "metadata": {},
   "outputs": [],
   "source": [
    "answer8.(A)=in defining an iterator"
   ]
  },
  {
   "cell_type": "code",
   "execution_count": null,
   "id": "52e07f5b",
   "metadata": {},
   "outputs": [],
   "source": [
    "answer9.(A),(C)=_abc,abc2"
   ]
  },
  {
   "cell_type": "code",
   "execution_count": null,
   "id": "c8001886",
   "metadata": {},
   "outputs": [],
   "source": [
    "answer10.(A),(B)=yield,raise"
   ]
  },
  {
   "cell_type": "code",
   "execution_count": null,
   "id": "91ec5cf1",
   "metadata": {},
   "outputs": [],
   "source": [
    "ANSWER11 "
   ]
  },
  {
   "cell_type": "markdown",
   "id": "19f574a9",
   "metadata": {},
   "source": [
    "# PYTHON PROGRAM TO FIND A FACTORIAL OF A NUMBER"
   ]
  },
  {
   "cell_type": "code",
   "execution_count": 4,
   "id": "efd8d98e",
   "metadata": {},
   "outputs": [
    {
     "name": "stdout",
     "output_type": "stream",
     "text": [
      "Enter the number:5\n",
      "Factorial of 5 is 120\n"
     ]
    }
   ],
   "source": [
    "import math  \n",
    "def fact(n):  \n",
    "    return(math.factorial(n))  \n",
    "  \n",
    "num = int(input(\"Enter the number:\"))  \n",
    "f = fact(num)  \n",
    "print(\"Factorial of\", num, \"is\", f)  "
   ]
  },
  {
   "cell_type": "code",
   "execution_count": null,
   "id": "2767fe3a",
   "metadata": {},
   "outputs": [],
   "source": [
    "ANSWER12."
   ]
  },
  {
   "cell_type": "code",
   "execution_count": 5,
   "id": "c7fcebcd",
   "metadata": {},
   "outputs": [
    {
     "name": "stdout",
     "output_type": "stream",
     "text": [
      "Enter any Number : 25\n",
      "25 is Composite Number\n"
     ]
    }
   ],
   "source": [
    "num=int(input(\"Enter any Number : \"))\n",
    "count=0\n",
    "for a in range(2,num):\n",
    "    if num%a==0:\n",
    "        count+=1\n",
    "if count>=1:\n",
    "    print(num, \"is Composite Number\")\n",
    "else:\n",
    "    print(num, \"is Prime Number\")"
   ]
  },
  {
   "cell_type": "code",
   "execution_count": null,
   "id": "00bc3cde",
   "metadata": {},
   "outputs": [],
   "source": [
    "ANSWER13."
   ]
  },
  {
   "cell_type": "code",
   "execution_count": 1,
   "id": "7fac62d6",
   "metadata": {},
   "outputs": [
    {
     "name": "stdout",
     "output_type": "stream",
     "text": [
      "Please enter your own String : wow\n",
      "This is a Palindrome String\n"
     ]
    }
   ],
   "source": [
    "string = input(\"Please enter your own String : \")\n",
    "\n",
    "if(string == string[:: - 1]):\n",
    "   print(\"This is a Palindrome String\")\n",
    "else:\n",
    "   print(\"This is Not a Palindrome String\")\n"
   ]
  },
  {
   "cell_type": "code",
   "execution_count": null,
   "id": "52700bf9",
   "metadata": {},
   "outputs": [],
   "source": [
    "ANSWER14."
   ]
  },
  {
   "cell_type": "code",
   "execution_count": 1,
   "id": "6ea2eb79",
   "metadata": {},
   "outputs": [
    {
     "name": "stdout",
     "output_type": "stream",
     "text": [
      "Hypotenuse = 5.0\n",
      "Adjacent = 4.0\n",
      "Opposite = 3.0\n",
      "You know the answer!\n"
     ]
    }
   ],
   "source": [
    "def pythagoras(opposite_side,adjacent_side,hypotenuse):\n",
    "        if opposite_side == str(\"x\"):\n",
    "            return (\"Opposite = \" + str(((hypotenuse**2) - (adjacent_side**2))**0.5))\n",
    "        elif adjacent_side == str(\"x\"):\n",
    "            return (\"Adjacent = \" + str(((hypotenuse**2) - (opposite_side**2))**0.5))\n",
    "        elif hypotenuse == str(\"x\"):\n",
    "            return (\"Hypotenuse = \" + str(((opposite_side**2) + (adjacent_side**2))**0.5))\n",
    "        else:\n",
    "            return \"You know the answer!\"\n",
    "    \n",
    "print(pythagoras(3,4,'x'))\n",
    "print(pythagoras(3,'x',5))\n",
    "print(pythagoras('x',4,5))\n",
    "print(pythagoras(3,4,5))\n"
   ]
  },
  {
   "cell_type": "code",
   "execution_count": null,
   "id": "8944a496",
   "metadata": {},
   "outputs": [],
   "source": [
    "ANSWER15."
   ]
  },
  {
   "cell_type": "code",
   "execution_count": 2,
   "id": "3696c3b0",
   "metadata": {},
   "outputs": [
    {
     "name": "stdout",
     "output_type": "stream",
     "text": [
      "Enter the string: bkjjjeeppcvbsdf\n",
      "{'b': 2, 'k': 1, 'j': 3, 'e': 2, 'p': 2, 'c': 1, 'v': 1, 's': 1, 'd': 1, 'f': 1}\n"
     ]
    }
   ],
   "source": [
    "str1 = input (\"Enter the string: \")\n",
    "d = dict()\n",
    "for c in str1:\n",
    "    d[c] = d.get(c, 0) + 1\n",
    "print(d)"
   ]
  },
  {
   "cell_type": "code",
   "execution_count": null,
   "id": "8f4fc862",
   "metadata": {},
   "outputs": [],
   "source": []
  },
  {
   "cell_type": "code",
   "execution_count": null,
   "id": "398f0aee",
   "metadata": {},
   "outputs": [],
   "source": []
  },
  {
   "cell_type": "code",
   "execution_count": null,
   "id": "bd6f7712",
   "metadata": {},
   "outputs": [],
   "source": []
  },
  {
   "cell_type": "code",
   "execution_count": null,
   "id": "b894b688",
   "metadata": {},
   "outputs": [],
   "source": []
  }
 ],
 "metadata": {
  "kernelspec": {
   "display_name": "Python 3",
   "language": "python",
   "name": "python3"
  },
  "language_info": {
   "codemirror_mode": {
    "name": "ipython",
    "version": 3
   },
   "file_extension": ".py",
   "mimetype": "text/x-python",
   "name": "python",
   "nbconvert_exporter": "python",
   "pygments_lexer": "ipython3",
   "version": "3.8.8"
  }
 },
 "nbformat": 4,
 "nbformat_minor": 5
}
